{
 "cells": [
  {
   "cell_type": "code",
   "execution_count": 1,
   "metadata": {},
   "outputs": [],
   "source": [
    "from PIL import Image\n",
    "import pandas as pd\n",
    "from pyecharts.charts import *\n",
    "from pyecharts.components import Table\n",
    "from pyecharts import options as opts\n",
    "from pyecharts.commons.utils import JsCode\n",
    "import random\n",
    "import datetime\n",
    "from impala.dbapi import connect\n",
    "from impala.util import as_pandas"
   ]
  },
  {
   "cell_type": "code",
   "execution_count": 2,
   "metadata": {},
   "outputs": [],
   "source": [
    "# 得到连接，\n",
    "conn = connect(host='121.41.31.137', port=10000, auth_mechanism='PLAIN', user='dingran')\n",
    "# 得到句柄\n",
    "cursor = conn.cursor()"
   ]
  },
  {
   "cell_type": "code",
   "execution_count": 3,
   "metadata": {},
   "outputs": [],
   "source": [
    "dt=str(datetime.date.today()+datetime.timedelta(-1))"
   ]
  },
  {
   "cell_type": "code",
   "execution_count": 4,
   "metadata": {},
   "outputs": [
    {
     "data": {
      "text/plain": [
       "'2022-06-05'"
      ]
     },
     "execution_count": 4,
     "metadata": {},
     "output_type": "execute_result"
    }
   ],
   "source": [
    "dt='2022-06-05'\n",
    "dt"
   ]
  },
  {
   "cell_type": "code",
   "execution_count": 5,
   "metadata": {},
   "outputs": [
    {
     "data": {
      "text/plain": [
       "'2022-06-07 13:49:15.366722'"
      ]
     },
     "execution_count": 5,
     "metadata": {},
     "output_type": "execute_result"
    }
   ],
   "source": [
    "str(datetime.datetime.now())"
   ]
  },
  {
   "cell_type": "markdown",
   "metadata": {},
   "source": [
    "## 定义需要归因的埋点"
   ]
  },
  {
   "cell_type": "markdown",
   "metadata": {},
   "source": [
    "### 资源位(待归因事件)"
   ]
  },
  {
   "cell_type": "markdown",
   "metadata": {},
   "source": [
    "#### 一级待归因事件"
   ]
  },
  {
   "cell_type": "code",
   "execution_count": 6,
   "metadata": {},
   "outputs": [],
   "source": [
    "attribution_level_one_events=\"\"\"\n",
    "select\n",
    "id\n",
    ",dt\n",
    ",event_code\n",
    ",event_type\n",
    ",os_type\n",
    ",get_json_object(properties,'$.page_id') `page_id`\n",
    ",get_json_object(properties,'$.page_title') `page_title`\n",
    ",get_json_object(properties,'$.floor_name') `floor_name`\n",
    ",get_json_object(properties,'$.item_name') `item_name`\n",
    ",get_json_object(properties,'$.goods_id') `goods_code`\n",
    ",get_json_object(properties,'$.goods_source') `goods_source`\n",
    ",nvl(nvl(get_json_object(properties,'$.parameter_transmit'),get_json_object(properties,'$.is_recommend')),'-1') `is_recommend` -- 是否推荐，1是、其他不是\n",
    ",event_time\n",
    ",user_id\n",
    "-- 增加订单统计的维度\n",
    ",'' order_code\n",
    ",'' deal_with_amount\n",
    ",'' order_status\n",
    ",'' risk_audit_ststus\n",
    ",'' order_date\n",
    ",'' pay_date\n",
    ",properties\n",
    "from ods_xxyp_event.ods_app_event_data_detail_dt\n",
    "where dt=\"{dt}\" \n",
    "and app_name='小象优品'\n",
    "-- 一级资源位\n",
    "and (\n",
    "\t-- 广告位：APP启动页广告点击\n",
    "\t(event_code='theBigPicOfAppStartingClick')\n",
    "\t-- 广告位：首页的插屏点击\n",
    "\tor\n",
    "\t(event_code='theSuperDynamicInterstitialWindowsClick')\n",
    "\t-- 首页的点击\n",
    "\tor\n",
    "\t(get_json_object(properties,'$.page_id')='1'\n",
    "\tand event_type='ck'\n",
    "\t)\n",
    "\t-- 个人中心页的点击\n",
    "\tor\n",
    "\t(get_json_object(properties,'$.page_id')='20new_personal'\n",
    "\tand event_type='ck'\n",
    "\t)\n",
    "\t-- 钱包页资源位点击\n",
    "\tor\n",
    "\t(get_json_object(properties,'$.page_id')='qianbao_home'\n",
    "\tand event_type='ck'\n",
    "\t)\n",
    "\t-- plus中心页点击\n",
    "\tor\n",
    "\t(get_json_object(properties,'$.page_id')='plus_center'\n",
    "\tand event_type='ck'\n",
    "\t)\n",
    ")\n",
    "and user_id='24997376'\n",
    "\"\"\".format(dt=dt)"
   ]
  },
  {
   "cell_type": "markdown",
   "metadata": {},
   "source": [
    "#### 二级待归因事件"
   ]
  },
  {
   "cell_type": "code",
   "execution_count": 7,
   "metadata": {},
   "outputs": [],
   "source": [
    "attribution_level_two_events='''\n",
    "select\n",
    "id\n",
    ",dt\n",
    ",event_code\n",
    ",event_type\n",
    ",os_type\n",
    ",get_json_object(properties,'$.page_id') `page_id`\n",
    ",get_json_object(properties,'$.page_title') `page_title`\n",
    ",get_json_object(properties,'$.floor_name') `floor_name`\n",
    ",get_json_object(properties,'$.item_name') `item_name`\n",
    ",get_json_object(properties,'$.goods_id') `goods_code`\n",
    ",get_json_object(properties,'$.goods_source') `goods_source`\n",
    ",nvl(nvl(get_json_object(properties,'$.parameter_transmit'),get_json_object(properties,'$.is_recommend')),'-1') `is_recommend` -- 是否推荐，1是、其他不是\n",
    ",event_time\n",
    ",user_id\n",
    "-- 增加订单统计的维度\n",
    ",'' order_code\n",
    ",'' deal_with_amount\n",
    ",'' order_status\n",
    ",'' risk_audit_ststus\n",
    ",'' order_date\n",
    ",'' pay_date\n",
    ",properties\n",
    "from ods_xxyp_event.ods_app_event_data_detail_dt\n",
    "where dt=\"{dt}\" \n",
    "and app_name='小象优品'\n",
    "-- 二级资源位\n",
    "and (\n",
    "\t-- 其他原生专场的点击\n",
    "\t(get_json_object(properties,'$.page_id') in (\"2\",\"3\",\"4\",\"5\",\"6\",\"7\",\"8\",\"9\",\"10\",\"11\",\"12\",\"13\",\"14\",\"15\")\n",
    "\tand event_type='ck'\n",
    "\t)\n",
    "\t-- 分类页的点击(category_product_click商品点击事件不是类目页的，page_id和类目页的一样，没page_title)\n",
    "\tor\n",
    "\t(get_json_object(properties,'$.page_id')='category_page'\n",
    "\tand event_type='ck'\n",
    "    and get_json_object(properties,'$.page_title')='分类页' -- 限制下，只要分类页的，不然会对其他页面造成截断\n",
    "\t)\n",
    "\t-- 分类页右边坑位的点击，埋点event_code目前是sw\n",
    "\tor\n",
    "\t(event_code='category_page_right_item_ck')\n",
    "\n",
    "\t-- 广告位：所有二级页广告点击\n",
    "\tor\n",
    "\t(event_code in (\"account_benefits\",\"plusHome_middleBanner_ck\",\"chargeTelephoneFees_TopAd_ck\",\"chargeTelephoneFees_BottomAd_ck\",\"wallet_bottomBox_ck\",\"loanRecordPage_Banner_ck\",\"repaymentPage_interstitialAd_ck\",\"repaymentPage_banner_ck\",\"OrderRatePage_banner_ck\",\"OrderRatePage_banner_ck\")\n",
    "\tand event_type='ck'\n",
    "\t)\n",
    "\t-- 所有未来添加的广告位\n",
    "\tor \n",
    "\t(get_json_object(properties,'$.is_ad_sys')='1')\n",
    "\t-- 搜索页的点击\n",
    "\tor\n",
    "\t(get_json_object(properties,'$.page_id')='searchpage'\n",
    "\tand event_type='ck'\n",
    "\t)\n",
    "    -- 搜索结果也的所有点击\n",
    "    or\n",
    "    (get_json_object(properties,'$.page_id')='goods_search_result'\n",
    "\tand event_type='ck'\n",
    "\t)\n",
    "    \n",
    ")\n",
    "and user_id='24997376'\n",
    "'''.format(dt=dt)"
   ]
  },
  {
   "cell_type": "code",
   "execution_count": 8,
   "metadata": {},
   "outputs": [
    {
     "data": {
      "text/plain": [
       "'\\nselect\\nid\\n,dt\\n,event_code\\n,event_type\\n,os_type\\n,get_json_object(properties,\\'$.page_id\\') `page_id`\\n,get_json_object(properties,\\'$.page_title\\') `page_title`\\n,get_json_object(properties,\\'$.floor_name\\') `floor_name`\\n,get_json_object(properties,\\'$.item_name\\') `item_name`\\n,get_json_object(properties,\\'$.goods_id\\') `goods_code`\\n,get_json_object(properties,\\'$.goods_source\\') `goods_source`\\n,nvl(nvl(get_json_object(properties,\\'$.parameter_transmit\\'),get_json_object(properties,\\'$.is_recommend\\')),\\'-1\\') `is_recommend` -- 是否推荐，1是、其他不是\\n,event_time\\n,user_id\\n-- 增加订单统计的维度\\n,\\'\\' order_code\\n,\\'\\' deal_with_amount\\n,\\'\\' order_status\\n,\\'\\' risk_audit_ststus\\n,\\'\\' order_date\\n,\\'\\' pay_date\\n,properties\\nfrom ods_xxyp_event.ods_app_event_data_detail_dt\\nwhere dt=\"2022-06-05\" \\nand app_name=\\'小象优品\\'\\n-- 二级资源位\\nand (\\n\\t-- 其他原生专场的点击\\n\\t(get_json_object(properties,\\'$.page_id\\') in (\"2\",\"3\",\"4\",\"5\",\"6\",\"7\",\"8\",\"9\",\"10\",\"11\",\"12\",\"13\",\"14\",\"15\")\\n\\tand event_type=\\'ck\\'\\n\\t)\\n\\t-- 分类页的点击(category_product_click商品点击事件不是类目页的，page_id和类目页的一样，没page_title)\\n\\tor\\n\\t(get_json_object(properties,\\'$.page_id\\')=\\'category_page\\'\\n\\tand event_type=\\'ck\\'\\n    and get_json_object(properties,\\'$.page_title\\')=\\'分类页\\' -- 限制下，只要分类页的，不然会对其他页面造成截断\\n\\t)\\n\\t-- 分类页右边坑位的点击，埋点event_code目前是sw\\n\\tor\\n\\t(event_code=\\'category_page_right_item_ck\\')\\n\\n\\t-- 广告位：所有二级页广告点击\\n\\tor\\n\\t(event_code in (\"account_benefits\",\"plusHome_middleBanner_ck\",\"chargeTelephoneFees_TopAd_ck\",\"chargeTelephoneFees_BottomAd_ck\",\"wallet_bottomBox_ck\",\"loanRecordPage_Banner_ck\",\"repaymentPage_interstitialAd_ck\",\"repaymentPage_banner_ck\",\"OrderRatePage_banner_ck\",\"OrderRatePage_banner_ck\")\\n\\tand event_type=\\'ck\\'\\n\\t)\\n\\t-- 所有未来添加的广告位\\n\\tor \\n\\t(get_json_object(properties,\\'$.is_ad_sys\\')=\\'1\\')\\n\\t-- 搜索页的点击\\n\\tor\\n\\t(get_json_object(properties,\\'$.page_id\\')=\\'searchpage\\'\\n\\tand event_type=\\'ck\\'\\n\\t)\\n    -- 搜索结果也的所有点击\\n    or\\n    (get_json_object(properties,\\'$.page_id\\')=\\'goods_search_result\\'\\n\\tand event_type=\\'ck\\'\\n\\t)\\n    \\n)\\nand user_id=\\'24997376\\'\\n'"
      ]
     },
     "execution_count": 8,
     "metadata": {},
     "output_type": "execute_result"
    }
   ],
   "source": [
    "attribution_level_two_events"
   ]
  },
  {
   "cell_type": "markdown",
   "metadata": {},
   "source": [
    "#### 三级待归因事件"
   ]
  },
  {
   "cell_type": "code",
   "execution_count": 9,
   "metadata": {},
   "outputs": [],
   "source": [
    "attribution_level_three_events='''\n",
    "select\n",
    "id\n",
    ",dt\n",
    ",event_code\n",
    ",event_type\n",
    ",os_type\n",
    ",get_json_object(properties,'$.page_id') `page_id`\n",
    ",get_json_object(properties,'$.page_title') `page_title`\n",
    ",get_json_object(properties,'$.floor_name') `floor_name`\n",
    ",get_json_object(properties,'$.item_name') `item_name`\n",
    ",get_json_object(properties,'$.goods_id') `goods_code`\n",
    ",get_json_object(properties,'$.goods_source') `goods_source`\n",
    ",nvl(nvl(get_json_object(properties,'$.is_recommend'),get_json_object(properties,'$.parameter_transmit')),'-1') `is_recommend` -- 是否推荐，1是、其他不是\n",
    ",event_time\n",
    ",user_id\n",
    "-- 增加订单统计的维度\n",
    ",'' order_code\n",
    ",'' deal_with_amount\n",
    ",'' order_status\n",
    ",'' risk_audit_ststus\n",
    ",'' order_date\n",
    ",'' pay_date\n",
    ",properties\n",
    "from ods_xxyp_event.ods_app_event_data_detail_dt\n",
    "where dt=\"{dt}\" \n",
    "and app_name='小象优品'\n",
    "-- 二级资源位\n",
    "and event_type='ck'\n",
    "and (get_json_object(properties,'$.goods_id') is not null or get_json_object(properties,'$.good_id') is not null)\n",
    "and event_code!='' -- 排除掉事件名为空的(颜值卡、会员中心页的商品点击event_code为空的)\n",
    "\n",
    "-- 排除直接加购的事件\n",
    "and event_code not in (\"micro_goods_detail_goods_ck\",\"micro_goods_detail_button_ck\",\"micro_goods_detail_specification_window_ck\",\"use_coupon_result_toshopcart_ck\",\"use_coupon_goods_detail_specification_window_ck\",\"add_to_shopping_cart_now\",\"interest_free_page_toshopcart_ck\",\"interest_free_page_goods_detail_window_ck\",\"nOptional_page_toshopcart_ck\",\"nOptional_page_goods_detail_window_ck\",\"nOptional_page_tobuy_ck\",\"reduction_page_toshopcart_ck\",\"reduction_page_goods_detail_window_ck\",\"reduction_page_tobuy_ck\",\"discount_page_toshopcart_ck\",\"discount_page_goods_detail_window_ck\",\"discount_page_tobuy_ck\",\"brand_sale_page_toshopcart_ck\",\"brand_sale_page_goods_detail_window_ck\",\"goods_brand_goods_search_toshopcart_ck\",\"brand_goods_search_goods_detail_window_ck\")\n",
    "-- 程序中商品详情页的和购物车页的除了商品推荐的，其他的都排除掉\n",
    "-- and get_json_object(properties,'$.page_id')!='goods_detail'\n",
    "\n",
    "and user_id='24997376'\n",
    "'''.format(dt=dt)"
   ]
  },
  {
   "cell_type": "markdown",
   "metadata": {},
   "source": [
    "### 商品详情页(前项关联事件)"
   ]
  },
  {
   "cell_type": "code",
   "execution_count": 10,
   "metadata": {},
   "outputs": [],
   "source": [
    "relation_events=\"\"\"\n",
    "select\n",
    "id\n",
    ",dt\n",
    ",event_code\n",
    ",event_type\n",
    ",os_type\n",
    ",get_json_object(properties,'$.page_id') `page_id`\n",
    ",get_json_object(properties,'$.page_title') `page_title`\n",
    ",get_json_object(properties,'$.floor_name') `floor_name`\n",
    ",get_json_object(properties,'$.item_name') `item_name`\n",
    ",get_json_object(properties,'$.goods_id') `goods_code`\n",
    ",get_json_object(properties,'$.goods_source') `goods_source`\n",
    ",'-1' `is_recommend`\n",
    ",event_time\n",
    ",user_id\n",
    "-- 增加订单统计的维度\n",
    ",'' order_code\n",
    ",'' deal_with_amount\n",
    ",'' order_status\n",
    ",'' risk_audit_ststus\n",
    ",'' order_date\n",
    ",'' pay_date\n",
    ",'' `properties`\n",
    "from ods_xxyp_event.ods_app_event_data_detail_dt\n",
    "where dt=\"{dt}\" \n",
    "and app_name='小象优品'\n",
    "-- 商品详情页(前向关联事件)\n",
    "and(\n",
    "-- 实物详情页\n",
    "(\n",
    "event_code='page_start'\n",
    "and event_type='sf'\n",
    "and get_json_object(properties,'$.page_id')='goods_detail'\n",
    ")\n",
    "-- 虚拟详情页\n",
    "or\n",
    "(\n",
    "event_code='page_start'\n",
    "and event_type='sf'\n",
    "and get_json_object(properties,'$.page_id')='virtual_goods_detail'\n",
    ")\n",
    "\n",
    "-- 微详情页或者其他页面不用访问商品详情页的可以直接购买或加购的\n",
    "or\n",
    "(\n",
    "event_code in (\"micro_goods_detail_button_ck\",\"micro_goods_detail_specification_window_ck\",\"use_coupon_result_toshopcart_ck\",\"use_coupon_goods_detail_specification_window_ck\",\"add_to_shopping_cart_now\",\"interest_free_page_toshopcart_ck\",\"interest_free_page_goods_detail_window_ck\",\"nOptional_page_toshopcart_ck\",\"nOptional_page_goods_detail_window_ck\",\"nOptional_page_tobuy_ck\",\"reduction_page_toshopcart_ck\",\"reduction_page_goods_detail_window_ck\",\"reduction_page_tobuy_ck\",\"discount_page_toshopcart_ck\",\"discount_page_goods_detail_window_ck\",\"discount_page_tobuy_ck\",\"brand_sale_page_toshopcart_ck\",\"brand_sale_page_goods_detail_window_ck\",\"goods_brand_goods_search_toshopcart_ck\",\"brand_goods_search_goods_detail_window_ck\")\n",
    ")\n",
    ")\n",
    "\n",
    "and user_id='24997376'\n",
    "\"\"\".format(dt=dt)"
   ]
  },
  {
   "cell_type": "markdown",
   "metadata": {},
   "source": [
    "### 订单数据(目标转化事件)"
   ]
  },
  {
   "cell_type": "code",
   "execution_count": 11,
   "metadata": {},
   "outputs": [],
   "source": [
    "target_events=\"\"\"\n",
    "select\n",
    "id\n",
    ",order_date `dt`\n",
    ",'create_order' event_code\n",
    ",'uc' event_type\n",
    ",'' os_type\n",
    ",'' `page_id`\n",
    ",'' `page_title`\n",
    ",'' `floor_name`\n",
    ",'' `item_name`\n",
    ",goods_code\n",
    ",good_source `goods_source`\n",
    ",'-1' `is_recommend`\n",
    ",unix_timestamp(order_datetime)*1000 event_time -- 转换成毫秒\n",
    ",user_id\n",
    ",order_code\n",
    ",deal_with_amount\n",
    ",order_status\n",
    ",risk_audit_ststus\n",
    ",order_date\n",
    ",pay_date\n",
    ",'' `properties`\n",
    "from dwd_xxyp_order.fact_dwd_xxyp_order_main_order_d_a_dt\n",
    "where order_date=\"{dt}\"\n",
    "and order_source<6\n",
    "and order_type=2\n",
    "\n",
    "and user_id='24997376'\n",
    "\"\"\".format(dt=dt)"
   ]
  },
  {
   "cell_type": "markdown",
   "metadata": {},
   "source": [
    "## 查询明细数据"
   ]
  },
  {
   "cell_type": "markdown",
   "metadata": {},
   "source": [
    "### 资源位明细数据"
   ]
  },
  {
   "cell_type": "markdown",
   "metadata": {},
   "source": [
    "#### 一级待归因数据"
   ]
  },
  {
   "cell_type": "code",
   "execution_count": 12,
   "metadata": {},
   "outputs": [],
   "source": [
    "# 执行查询\n",
    "cursor.execute(attribution_level_one_events)\n",
    "# 获取列名\n",
    "columns = [col[0] for col in cursor.description]"
   ]
  },
  {
   "cell_type": "code",
   "execution_count": 13,
   "metadata": {},
   "outputs": [],
   "source": [
    "# 查询结果\n",
    "attribution_level_one_events_data=cursor.fetchall()"
   ]
  },
  {
   "cell_type": "code",
   "execution_count": 14,
   "metadata": {},
   "outputs": [],
   "source": [
    "attribution_level_one_events_df=pd.DataFrame(attribution_level_one_events_data,columns=columns)"
   ]
  },
  {
   "cell_type": "code",
   "execution_count": 15,
   "metadata": {},
   "outputs": [],
   "source": [
    "attribution_level_one_events_df['type']='attribution'\n",
    "attribution_level_one_events_df['attribution_level']='1'"
   ]
  },
  {
   "cell_type": "code",
   "execution_count": 16,
   "metadata": {},
   "outputs": [
    {
     "data": {
      "text/html": [
       "<div>\n",
       "<style scoped>\n",
       "    .dataframe tbody tr th:only-of-type {\n",
       "        vertical-align: middle;\n",
       "    }\n",
       "\n",
       "    .dataframe tbody tr th {\n",
       "        vertical-align: top;\n",
       "    }\n",
       "\n",
       "    .dataframe thead th {\n",
       "        text-align: right;\n",
       "    }\n",
       "</style>\n",
       "<table border=\"1\" class=\"dataframe\">\n",
       "  <thead>\n",
       "    <tr style=\"text-align: right;\">\n",
       "      <th></th>\n",
       "      <th>id</th>\n",
       "      <th>dt</th>\n",
       "      <th>event_code</th>\n",
       "      <th>event_type</th>\n",
       "      <th>os_type</th>\n",
       "      <th>page_id</th>\n",
       "      <th>page_title</th>\n",
       "      <th>floor_name</th>\n",
       "      <th>item_name</th>\n",
       "      <th>goods_code</th>\n",
       "      <th>...</th>\n",
       "      <th>user_id</th>\n",
       "      <th>order_code</th>\n",
       "      <th>deal_with_amount</th>\n",
       "      <th>order_status</th>\n",
       "      <th>risk_audit_ststus</th>\n",
       "      <th>order_date</th>\n",
       "      <th>pay_date</th>\n",
       "      <th>properties</th>\n",
       "      <th>type</th>\n",
       "      <th>attribution_level</th>\n",
       "    </tr>\n",
       "  </thead>\n",
       "  <tbody>\n",
       "    <tr>\n",
       "      <th>0</th>\n",
       "      <td>585816279819489281</td>\n",
       "      <td>2022-06-05</td>\n",
       "      <td>20new_personal_ck</td>\n",
       "      <td>ck</td>\n",
       "      <td>android</td>\n",
       "      <td>20new_personal</td>\n",
       "      <td>个人中心</td>\n",
       "      <td>我的订单</td>\n",
       "      <td>我的订单</td>\n",
       "      <td>None</td>\n",
       "      <td>...</td>\n",
       "      <td>24997376</td>\n",
       "      <td></td>\n",
       "      <td></td>\n",
       "      <td></td>\n",
       "      <td></td>\n",
       "      <td></td>\n",
       "      <td></td>\n",
       "      <td>{\"floor_name\":\"我的订单\",\"page_id\":\"20new_personal...</td>\n",
       "      <td>attribution</td>\n",
       "      <td>1</td>\n",
       "    </tr>\n",
       "    <tr>\n",
       "      <th>1</th>\n",
       "      <td>585887902622814220</td>\n",
       "      <td>2022-06-05</td>\n",
       "      <td>20new_personal_ck</td>\n",
       "      <td>ck</td>\n",
       "      <td>android</td>\n",
       "      <td>20new_personal</td>\n",
       "      <td>个人中心</td>\n",
       "      <td>个人设置</td>\n",
       "      <td>账户设置</td>\n",
       "      <td>None</td>\n",
       "      <td>...</td>\n",
       "      <td>24997376</td>\n",
       "      <td></td>\n",
       "      <td></td>\n",
       "      <td></td>\n",
       "      <td></td>\n",
       "      <td></td>\n",
       "      <td></td>\n",
       "      <td>{\"floor_name\":\"个人设置\",\"page_id\":\"20new_personal...</td>\n",
       "      <td>attribution</td>\n",
       "      <td>1</td>\n",
       "    </tr>\n",
       "    <tr>\n",
       "      <th>2</th>\n",
       "      <td>585888388486533121</td>\n",
       "      <td>2022-06-05</td>\n",
       "      <td>recommend_item_ck</td>\n",
       "      <td>ck</td>\n",
       "      <td>android</td>\n",
       "      <td>1</td>\n",
       "      <td>小象首页</td>\n",
       "      <td>商品tab</td>\n",
       "      <td>底部tab（新）</td>\n",
       "      <td>201703239</td>\n",
       "      <td>...</td>\n",
       "      <td>24997376</td>\n",
       "      <td></td>\n",
       "      <td></td>\n",
       "      <td></td>\n",
       "      <td></td>\n",
       "      <td></td>\n",
       "      <td></td>\n",
       "      <td>{\"goods_name\":\"Apple iPad Pro 12.9英寸平板电脑 2021年...</td>\n",
       "      <td>attribution</td>\n",
       "      <td>1</td>\n",
       "    </tr>\n",
       "    <tr>\n",
       "      <th>3</th>\n",
       "      <td>585888744897781763</td>\n",
       "      <td>2022-06-05</td>\n",
       "      <td>recommend_item_ck</td>\n",
       "      <td>ck</td>\n",
       "      <td>android</td>\n",
       "      <td>1</td>\n",
       "      <td>小象首页</td>\n",
       "      <td>商品tab</td>\n",
       "      <td>底部tab（新）</td>\n",
       "      <td>201936364</td>\n",
       "      <td>...</td>\n",
       "      <td>24997376</td>\n",
       "      <td></td>\n",
       "      <td></td>\n",
       "      <td></td>\n",
       "      <td></td>\n",
       "      <td></td>\n",
       "      <td></td>\n",
       "      <td>{\"goods_name\":\"【二手苹果Apple】iPhone 12mini 国行/国际版...</td>\n",
       "      <td>attribution</td>\n",
       "      <td>1</td>\n",
       "    </tr>\n",
       "    <tr>\n",
       "      <th>4</th>\n",
       "      <td>585888895661903875</td>\n",
       "      <td>2022-06-05</td>\n",
       "      <td>recommend_item_ck</td>\n",
       "      <td>ck</td>\n",
       "      <td>android</td>\n",
       "      <td>1</td>\n",
       "      <td>小象首页</td>\n",
       "      <td>商品tab</td>\n",
       "      <td>底部tab（新）</td>\n",
       "      <td>201883060</td>\n",
       "      <td>...</td>\n",
       "      <td>24997376</td>\n",
       "      <td></td>\n",
       "      <td></td>\n",
       "      <td></td>\n",
       "      <td></td>\n",
       "      <td></td>\n",
       "      <td></td>\n",
       "      <td>{\"goods_name\":\"Apple iPad mini 8.3英寸 平板电脑 2021...</td>\n",
       "      <td>attribution</td>\n",
       "      <td>1</td>\n",
       "    </tr>\n",
       "  </tbody>\n",
       "</table>\n",
       "<p>5 rows × 23 columns</p>\n",
       "</div>"
      ],
      "text/plain": [
       "                   id          dt         event_code event_type  os_type  \\\n",
       "0  585816279819489281  2022-06-05  20new_personal_ck         ck  android   \n",
       "1  585887902622814220  2022-06-05  20new_personal_ck         ck  android   \n",
       "2  585888388486533121  2022-06-05  recommend_item_ck         ck  android   \n",
       "3  585888744897781763  2022-06-05  recommend_item_ck         ck  android   \n",
       "4  585888895661903875  2022-06-05  recommend_item_ck         ck  android   \n",
       "\n",
       "          page_id page_title floor_name item_name goods_code  ...   user_id  \\\n",
       "0  20new_personal       个人中心       我的订单      我的订单       None  ...  24997376   \n",
       "1  20new_personal       个人中心       个人设置      账户设置       None  ...  24997376   \n",
       "2               1       小象首页      商品tab  底部tab（新）  201703239  ...  24997376   \n",
       "3               1       小象首页      商品tab  底部tab（新）  201936364  ...  24997376   \n",
       "4               1       小象首页      商品tab  底部tab（新）  201883060  ...  24997376   \n",
       "\n",
       "  order_code deal_with_amount order_status risk_audit_ststus order_date  \\\n",
       "0                                                                         \n",
       "1                                                                         \n",
       "2                                                                         \n",
       "3                                                                         \n",
       "4                                                                         \n",
       "\n",
       "  pay_date                                         properties         type  \\\n",
       "0           {\"floor_name\":\"我的订单\",\"page_id\":\"20new_personal...  attribution   \n",
       "1           {\"floor_name\":\"个人设置\",\"page_id\":\"20new_personal...  attribution   \n",
       "2           {\"goods_name\":\"Apple iPad Pro 12.9英寸平板电脑 2021年...  attribution   \n",
       "3           {\"goods_name\":\"【二手苹果Apple】iPhone 12mini 国行/国际版...  attribution   \n",
       "4           {\"goods_name\":\"Apple iPad mini 8.3英寸 平板电脑 2021...  attribution   \n",
       "\n",
       "  attribution_level  \n",
       "0                 1  \n",
       "1                 1  \n",
       "2                 1  \n",
       "3                 1  \n",
       "4                 1  \n",
       "\n",
       "[5 rows x 23 columns]"
      ]
     },
     "execution_count": 16,
     "metadata": {},
     "output_type": "execute_result"
    }
   ],
   "source": [
    "attribution_level_one_events_df.head()"
   ]
  },
  {
   "cell_type": "markdown",
   "metadata": {},
   "source": [
    "#### 二级待归因数据"
   ]
  },
  {
   "cell_type": "code",
   "execution_count": 17,
   "metadata": {},
   "outputs": [],
   "source": [
    "# 执行查询\n",
    "cursor.execute(attribution_level_two_events)\n",
    "# 获取列名\n",
    "columns = [col[0] for col in cursor.description]"
   ]
  },
  {
   "cell_type": "code",
   "execution_count": 18,
   "metadata": {},
   "outputs": [],
   "source": [
    "# 查询结果\n",
    "attribution_level_two_events_data=cursor.fetchall()"
   ]
  },
  {
   "cell_type": "code",
   "execution_count": 19,
   "metadata": {},
   "outputs": [],
   "source": [
    "attribution_level_two_events_df=pd.DataFrame(attribution_level_two_events_data,columns=columns)"
   ]
  },
  {
   "cell_type": "code",
   "execution_count": 20,
   "metadata": {},
   "outputs": [],
   "source": [
    "attribution_level_two_events_df['type']='attribution'\n",
    "attribution_level_two_events_df['attribution_level']='2'"
   ]
  },
  {
   "cell_type": "code",
   "execution_count": 21,
   "metadata": {},
   "outputs": [
    {
     "data": {
      "text/html": [
       "<div>\n",
       "<style scoped>\n",
       "    .dataframe tbody tr th:only-of-type {\n",
       "        vertical-align: middle;\n",
       "    }\n",
       "\n",
       "    .dataframe tbody tr th {\n",
       "        vertical-align: top;\n",
       "    }\n",
       "\n",
       "    .dataframe thead th {\n",
       "        text-align: right;\n",
       "    }\n",
       "</style>\n",
       "<table border=\"1\" class=\"dataframe\">\n",
       "  <thead>\n",
       "    <tr style=\"text-align: right;\">\n",
       "      <th></th>\n",
       "      <th>id</th>\n",
       "      <th>dt</th>\n",
       "      <th>event_code</th>\n",
       "      <th>event_type</th>\n",
       "      <th>os_type</th>\n",
       "      <th>page_id</th>\n",
       "      <th>page_title</th>\n",
       "      <th>floor_name</th>\n",
       "      <th>item_name</th>\n",
       "      <th>goods_code</th>\n",
       "      <th>...</th>\n",
       "      <th>user_id</th>\n",
       "      <th>order_code</th>\n",
       "      <th>deal_with_amount</th>\n",
       "      <th>order_status</th>\n",
       "      <th>risk_audit_ststus</th>\n",
       "      <th>order_date</th>\n",
       "      <th>pay_date</th>\n",
       "      <th>properties</th>\n",
       "      <th>type</th>\n",
       "      <th>attribution_level</th>\n",
       "    </tr>\n",
       "  </thead>\n",
       "  <tbody>\n",
       "  </tbody>\n",
       "</table>\n",
       "<p>0 rows × 23 columns</p>\n",
       "</div>"
      ],
      "text/plain": [
       "Empty DataFrame\n",
       "Columns: [id, dt, event_code, event_type, os_type, page_id, page_title, floor_name, item_name, goods_code, goods_source, is_recommend, event_time, user_id, order_code, deal_with_amount, order_status, risk_audit_ststus, order_date, pay_date, properties, type, attribution_level]\n",
       "Index: []\n",
       "\n",
       "[0 rows x 23 columns]"
      ]
     },
     "execution_count": 21,
     "metadata": {},
     "output_type": "execute_result"
    }
   ],
   "source": [
    "attribution_level_two_events_df.head()"
   ]
  },
  {
   "cell_type": "markdown",
   "metadata": {},
   "source": [
    "#### 三级待归因数据"
   ]
  },
  {
   "cell_type": "code",
   "execution_count": 22,
   "metadata": {},
   "outputs": [],
   "source": [
    "# 执行查询\n",
    "cursor.execute(attribution_level_three_events)\n",
    "# 获取列名\n",
    "columns = [col[0] for col in cursor.description]"
   ]
  },
  {
   "cell_type": "code",
   "execution_count": 23,
   "metadata": {},
   "outputs": [],
   "source": [
    "# 查询结果\n",
    "attribution_level_three_events_data=cursor.fetchall()"
   ]
  },
  {
   "cell_type": "code",
   "execution_count": 24,
   "metadata": {},
   "outputs": [],
   "source": [
    "attribution_level_three_events_df=pd.DataFrame(attribution_level_three_events_data,columns=columns)"
   ]
  },
  {
   "cell_type": "code",
   "execution_count": 25,
   "metadata": {},
   "outputs": [],
   "source": [
    "attribution_level_three_events_df['type']='attribution'\n",
    "attribution_level_three_events_df['attribution_level']='3'"
   ]
  },
  {
   "cell_type": "code",
   "execution_count": 26,
   "metadata": {},
   "outputs": [
    {
     "data": {
      "text/html": [
       "<div>\n",
       "<style scoped>\n",
       "    .dataframe tbody tr th:only-of-type {\n",
       "        vertical-align: middle;\n",
       "    }\n",
       "\n",
       "    .dataframe tbody tr th {\n",
       "        vertical-align: top;\n",
       "    }\n",
       "\n",
       "    .dataframe thead th {\n",
       "        text-align: right;\n",
       "    }\n",
       "</style>\n",
       "<table border=\"1\" class=\"dataframe\">\n",
       "  <thead>\n",
       "    <tr style=\"text-align: right;\">\n",
       "      <th></th>\n",
       "      <th>id</th>\n",
       "      <th>dt</th>\n",
       "      <th>event_code</th>\n",
       "      <th>event_type</th>\n",
       "      <th>os_type</th>\n",
       "      <th>page_id</th>\n",
       "      <th>page_title</th>\n",
       "      <th>floor_name</th>\n",
       "      <th>item_name</th>\n",
       "      <th>goods_code</th>\n",
       "      <th>...</th>\n",
       "      <th>user_id</th>\n",
       "      <th>order_code</th>\n",
       "      <th>deal_with_amount</th>\n",
       "      <th>order_status</th>\n",
       "      <th>risk_audit_ststus</th>\n",
       "      <th>order_date</th>\n",
       "      <th>pay_date</th>\n",
       "      <th>properties</th>\n",
       "      <th>type</th>\n",
       "      <th>attribution_level</th>\n",
       "    </tr>\n",
       "  </thead>\n",
       "  <tbody>\n",
       "    <tr>\n",
       "      <th>0</th>\n",
       "      <td>585888388486533121</td>\n",
       "      <td>2022-06-05</td>\n",
       "      <td>recommend_item_ck</td>\n",
       "      <td>ck</td>\n",
       "      <td>android</td>\n",
       "      <td>1</td>\n",
       "      <td>小象首页</td>\n",
       "      <td>商品tab</td>\n",
       "      <td>底部tab（新）</td>\n",
       "      <td>201703239</td>\n",
       "      <td>...</td>\n",
       "      <td>24997376</td>\n",
       "      <td></td>\n",
       "      <td></td>\n",
       "      <td></td>\n",
       "      <td></td>\n",
       "      <td></td>\n",
       "      <td></td>\n",
       "      <td>{\"goods_name\":\"Apple iPad Pro 12.9英寸平板电脑 2021年...</td>\n",
       "      <td>attribution</td>\n",
       "      <td>3</td>\n",
       "    </tr>\n",
       "    <tr>\n",
       "      <th>1</th>\n",
       "      <td>585888744897781763</td>\n",
       "      <td>2022-06-05</td>\n",
       "      <td>recommend_item_ck</td>\n",
       "      <td>ck</td>\n",
       "      <td>android</td>\n",
       "      <td>1</td>\n",
       "      <td>小象首页</td>\n",
       "      <td>商品tab</td>\n",
       "      <td>底部tab（新）</td>\n",
       "      <td>201936364</td>\n",
       "      <td>...</td>\n",
       "      <td>24997376</td>\n",
       "      <td></td>\n",
       "      <td></td>\n",
       "      <td></td>\n",
       "      <td></td>\n",
       "      <td></td>\n",
       "      <td></td>\n",
       "      <td>{\"goods_name\":\"【二手苹果Apple】iPhone 12mini 国行/国际版...</td>\n",
       "      <td>attribution</td>\n",
       "      <td>3</td>\n",
       "    </tr>\n",
       "    <tr>\n",
       "      <th>2</th>\n",
       "      <td>585888895661903875</td>\n",
       "      <td>2022-06-05</td>\n",
       "      <td>recommend_item_ck</td>\n",
       "      <td>ck</td>\n",
       "      <td>android</td>\n",
       "      <td>1</td>\n",
       "      <td>小象首页</td>\n",
       "      <td>商品tab</td>\n",
       "      <td>底部tab（新）</td>\n",
       "      <td>201883060</td>\n",
       "      <td>...</td>\n",
       "      <td>24997376</td>\n",
       "      <td></td>\n",
       "      <td></td>\n",
       "      <td></td>\n",
       "      <td></td>\n",
       "      <td></td>\n",
       "      <td></td>\n",
       "      <td>{\"goods_name\":\"Apple iPad mini 8.3英寸 平板电脑 2021...</td>\n",
       "      <td>attribution</td>\n",
       "      <td>3</td>\n",
       "    </tr>\n",
       "    <tr>\n",
       "      <th>3</th>\n",
       "      <td>585888895687069701</td>\n",
       "      <td>2022-06-05</td>\n",
       "      <td>goods_detail_ck</td>\n",
       "      <td>ck</td>\n",
       "      <td>android</td>\n",
       "      <td>goods_detail</td>\n",
       "      <td>商品详情页</td>\n",
       "      <td>None</td>\n",
       "      <td>None</td>\n",
       "      <td>201867657</td>\n",
       "      <td>...</td>\n",
       "      <td>24997376</td>\n",
       "      <td></td>\n",
       "      <td></td>\n",
       "      <td></td>\n",
       "      <td></td>\n",
       "      <td></td>\n",
       "      <td></td>\n",
       "      <td>{\"click_type\":\"tobuy_ck\",\"page_id\":\"goods_deta...</td>\n",
       "      <td>attribution</td>\n",
       "      <td>3</td>\n",
       "    </tr>\n",
       "    <tr>\n",
       "      <th>4</th>\n",
       "      <td>585888970001485824</td>\n",
       "      <td>2022-06-05</td>\n",
       "      <td>goods_detail_specification_window_ck</td>\n",
       "      <td>ck</td>\n",
       "      <td>android</td>\n",
       "      <td>goods_detail</td>\n",
       "      <td>商品详情页</td>\n",
       "      <td>None</td>\n",
       "      <td>None</td>\n",
       "      <td>201867657</td>\n",
       "      <td>...</td>\n",
       "      <td>24997376</td>\n",
       "      <td></td>\n",
       "      <td></td>\n",
       "      <td></td>\n",
       "      <td></td>\n",
       "      <td></td>\n",
       "      <td></td>\n",
       "      <td>{\"goods_name\":\"Apple iPad Pro 11英寸 平板电脑 2021年新...</td>\n",
       "      <td>attribution</td>\n",
       "      <td>3</td>\n",
       "    </tr>\n",
       "  </tbody>\n",
       "</table>\n",
       "<p>5 rows × 23 columns</p>\n",
       "</div>"
      ],
      "text/plain": [
       "                   id          dt                            event_code  \\\n",
       "0  585888388486533121  2022-06-05                     recommend_item_ck   \n",
       "1  585888744897781763  2022-06-05                     recommend_item_ck   \n",
       "2  585888895661903875  2022-06-05                     recommend_item_ck   \n",
       "3  585888895687069701  2022-06-05                       goods_detail_ck   \n",
       "4  585888970001485824  2022-06-05  goods_detail_specification_window_ck   \n",
       "\n",
       "  event_type  os_type       page_id page_title floor_name item_name  \\\n",
       "0         ck  android             1       小象首页      商品tab  底部tab（新）   \n",
       "1         ck  android             1       小象首页      商品tab  底部tab（新）   \n",
       "2         ck  android             1       小象首页      商品tab  底部tab（新）   \n",
       "3         ck  android  goods_detail      商品详情页       None      None   \n",
       "4         ck  android  goods_detail      商品详情页       None      None   \n",
       "\n",
       "  goods_code  ...   user_id order_code deal_with_amount order_status  \\\n",
       "0  201703239  ...  24997376                                            \n",
       "1  201936364  ...  24997376                                            \n",
       "2  201883060  ...  24997376                                            \n",
       "3  201867657  ...  24997376                                            \n",
       "4  201867657  ...  24997376                                            \n",
       "\n",
       "  risk_audit_ststus order_date pay_date  \\\n",
       "0                                         \n",
       "1                                         \n",
       "2                                         \n",
       "3                                         \n",
       "4                                         \n",
       "\n",
       "                                          properties         type  \\\n",
       "0  {\"goods_name\":\"Apple iPad Pro 12.9英寸平板电脑 2021年...  attribution   \n",
       "1  {\"goods_name\":\"【二手苹果Apple】iPhone 12mini 国行/国际版...  attribution   \n",
       "2  {\"goods_name\":\"Apple iPad mini 8.3英寸 平板电脑 2021...  attribution   \n",
       "3  {\"click_type\":\"tobuy_ck\",\"page_id\":\"goods_deta...  attribution   \n",
       "4  {\"goods_name\":\"Apple iPad Pro 11英寸 平板电脑 2021年新...  attribution   \n",
       "\n",
       "  attribution_level  \n",
       "0                 3  \n",
       "1                 3  \n",
       "2                 3  \n",
       "3                 3  \n",
       "4                 3  \n",
       "\n",
       "[5 rows x 23 columns]"
      ]
     },
     "execution_count": 26,
     "metadata": {},
     "output_type": "execute_result"
    }
   ],
   "source": [
    "attribution_level_three_events_df.head()"
   ]
  },
  {
   "cell_type": "markdown",
   "metadata": {},
   "source": [
    "##### 把商品详情页和购物车页非推荐商品的点击给过滤掉"
   ]
  },
  {
   "cell_type": "code",
   "execution_count": 27,
   "metadata": {},
   "outputs": [
    {
     "data": {
      "text/html": [
       "<div>\n",
       "<style scoped>\n",
       "    .dataframe tbody tr th:only-of-type {\n",
       "        vertical-align: middle;\n",
       "    }\n",
       "\n",
       "    .dataframe tbody tr th {\n",
       "        vertical-align: top;\n",
       "    }\n",
       "\n",
       "    .dataframe thead th {\n",
       "        text-align: right;\n",
       "    }\n",
       "</style>\n",
       "<table border=\"1\" class=\"dataframe\">\n",
       "  <thead>\n",
       "    <tr style=\"text-align: right;\">\n",
       "      <th></th>\n",
       "      <th>id</th>\n",
       "      <th>dt</th>\n",
       "      <th>event_code</th>\n",
       "      <th>event_type</th>\n",
       "      <th>os_type</th>\n",
       "      <th>page_id</th>\n",
       "      <th>page_title</th>\n",
       "      <th>floor_name</th>\n",
       "      <th>item_name</th>\n",
       "      <th>goods_code</th>\n",
       "      <th>...</th>\n",
       "      <th>user_id</th>\n",
       "      <th>order_code</th>\n",
       "      <th>deal_with_amount</th>\n",
       "      <th>order_status</th>\n",
       "      <th>risk_audit_ststus</th>\n",
       "      <th>order_date</th>\n",
       "      <th>pay_date</th>\n",
       "      <th>properties</th>\n",
       "      <th>type</th>\n",
       "      <th>attribution_level</th>\n",
       "    </tr>\n",
       "  </thead>\n",
       "  <tbody>\n",
       "    <tr>\n",
       "      <th>0</th>\n",
       "      <td>585888388486533121</td>\n",
       "      <td>2022-06-05</td>\n",
       "      <td>recommend_item_ck</td>\n",
       "      <td>ck</td>\n",
       "      <td>android</td>\n",
       "      <td>1</td>\n",
       "      <td>小象首页</td>\n",
       "      <td>商品tab</td>\n",
       "      <td>底部tab（新）</td>\n",
       "      <td>201703239</td>\n",
       "      <td>...</td>\n",
       "      <td>24997376</td>\n",
       "      <td></td>\n",
       "      <td></td>\n",
       "      <td></td>\n",
       "      <td></td>\n",
       "      <td></td>\n",
       "      <td></td>\n",
       "      <td>{\"goods_name\":\"Apple iPad Pro 12.9英寸平板电脑 2021年...</td>\n",
       "      <td>attribution</td>\n",
       "      <td>3</td>\n",
       "    </tr>\n",
       "    <tr>\n",
       "      <th>1</th>\n",
       "      <td>585888744897781763</td>\n",
       "      <td>2022-06-05</td>\n",
       "      <td>recommend_item_ck</td>\n",
       "      <td>ck</td>\n",
       "      <td>android</td>\n",
       "      <td>1</td>\n",
       "      <td>小象首页</td>\n",
       "      <td>商品tab</td>\n",
       "      <td>底部tab（新）</td>\n",
       "      <td>201936364</td>\n",
       "      <td>...</td>\n",
       "      <td>24997376</td>\n",
       "      <td></td>\n",
       "      <td></td>\n",
       "      <td></td>\n",
       "      <td></td>\n",
       "      <td></td>\n",
       "      <td></td>\n",
       "      <td>{\"goods_name\":\"【二手苹果Apple】iPhone 12mini 国行/国际版...</td>\n",
       "      <td>attribution</td>\n",
       "      <td>3</td>\n",
       "    </tr>\n",
       "    <tr>\n",
       "      <th>2</th>\n",
       "      <td>585888895661903875</td>\n",
       "      <td>2022-06-05</td>\n",
       "      <td>recommend_item_ck</td>\n",
       "      <td>ck</td>\n",
       "      <td>android</td>\n",
       "      <td>1</td>\n",
       "      <td>小象首页</td>\n",
       "      <td>商品tab</td>\n",
       "      <td>底部tab（新）</td>\n",
       "      <td>201883060</td>\n",
       "      <td>...</td>\n",
       "      <td>24997376</td>\n",
       "      <td></td>\n",
       "      <td></td>\n",
       "      <td></td>\n",
       "      <td></td>\n",
       "      <td></td>\n",
       "      <td></td>\n",
       "      <td>{\"goods_name\":\"Apple iPad mini 8.3英寸 平板电脑 2021...</td>\n",
       "      <td>attribution</td>\n",
       "      <td>3</td>\n",
       "    </tr>\n",
       "    <tr>\n",
       "      <th>3</th>\n",
       "      <td>585888895687069701</td>\n",
       "      <td>2022-06-05</td>\n",
       "      <td>goods_detail_ck</td>\n",
       "      <td>ck</td>\n",
       "      <td>android</td>\n",
       "      <td>goods_detail</td>\n",
       "      <td>商品详情页</td>\n",
       "      <td>None</td>\n",
       "      <td>None</td>\n",
       "      <td>201867657</td>\n",
       "      <td>...</td>\n",
       "      <td>24997376</td>\n",
       "      <td></td>\n",
       "      <td></td>\n",
       "      <td></td>\n",
       "      <td></td>\n",
       "      <td></td>\n",
       "      <td></td>\n",
       "      <td>{\"click_type\":\"tobuy_ck\",\"page_id\":\"goods_deta...</td>\n",
       "      <td>attribution</td>\n",
       "      <td>3</td>\n",
       "    </tr>\n",
       "    <tr>\n",
       "      <th>4</th>\n",
       "      <td>585888970001485824</td>\n",
       "      <td>2022-06-05</td>\n",
       "      <td>goods_detail_specification_window_ck</td>\n",
       "      <td>ck</td>\n",
       "      <td>android</td>\n",
       "      <td>goods_detail</td>\n",
       "      <td>商品详情页</td>\n",
       "      <td>None</td>\n",
       "      <td>None</td>\n",
       "      <td>201867657</td>\n",
       "      <td>...</td>\n",
       "      <td>24997376</td>\n",
       "      <td></td>\n",
       "      <td></td>\n",
       "      <td></td>\n",
       "      <td></td>\n",
       "      <td></td>\n",
       "      <td></td>\n",
       "      <td>{\"goods_name\":\"Apple iPad Pro 11英寸 平板电脑 2021年新...</td>\n",
       "      <td>attribution</td>\n",
       "      <td>3</td>\n",
       "    </tr>\n",
       "  </tbody>\n",
       "</table>\n",
       "<p>5 rows × 23 columns</p>\n",
       "</div>"
      ],
      "text/plain": [
       "                   id          dt                            event_code  \\\n",
       "0  585888388486533121  2022-06-05                     recommend_item_ck   \n",
       "1  585888744897781763  2022-06-05                     recommend_item_ck   \n",
       "2  585888895661903875  2022-06-05                     recommend_item_ck   \n",
       "3  585888895687069701  2022-06-05                       goods_detail_ck   \n",
       "4  585888970001485824  2022-06-05  goods_detail_specification_window_ck   \n",
       "\n",
       "  event_type  os_type       page_id page_title floor_name item_name  \\\n",
       "0         ck  android             1       小象首页      商品tab  底部tab（新）   \n",
       "1         ck  android             1       小象首页      商品tab  底部tab（新）   \n",
       "2         ck  android             1       小象首页      商品tab  底部tab（新）   \n",
       "3         ck  android  goods_detail      商品详情页       None      None   \n",
       "4         ck  android  goods_detail      商品详情页       None      None   \n",
       "\n",
       "  goods_code  ...   user_id order_code deal_with_amount order_status  \\\n",
       "0  201703239  ...  24997376                                            \n",
       "1  201936364  ...  24997376                                            \n",
       "2  201883060  ...  24997376                                            \n",
       "3  201867657  ...  24997376                                            \n",
       "4  201867657  ...  24997376                                            \n",
       "\n",
       "  risk_audit_ststus order_date pay_date  \\\n",
       "0                                         \n",
       "1                                         \n",
       "2                                         \n",
       "3                                         \n",
       "4                                         \n",
       "\n",
       "                                          properties         type  \\\n",
       "0  {\"goods_name\":\"Apple iPad Pro 12.9英寸平板电脑 2021年...  attribution   \n",
       "1  {\"goods_name\":\"【二手苹果Apple】iPhone 12mini 国行/国际版...  attribution   \n",
       "2  {\"goods_name\":\"Apple iPad mini 8.3英寸 平板电脑 2021...  attribution   \n",
       "3  {\"click_type\":\"tobuy_ck\",\"page_id\":\"goods_deta...  attribution   \n",
       "4  {\"goods_name\":\"Apple iPad Pro 11英寸 平板电脑 2021年新...  attribution   \n",
       "\n",
       "  attribution_level  \n",
       "0                 3  \n",
       "1                 3  \n",
       "2                 3  \n",
       "3                 3  \n",
       "4                 3  \n",
       "\n",
       "[5 rows x 23 columns]"
      ]
     },
     "execution_count": 27,
     "metadata": {},
     "output_type": "execute_result"
    }
   ],
   "source": [
    "attribution_level_three_events_df.head(15)"
   ]
  },
  {
   "cell_type": "code",
   "execution_count": 28,
   "metadata": {},
   "outputs": [],
   "source": [
    "# 删除商品详情页非商品推荐的点击\n",
    "attribution_level_three_events_df.drop(attribution_level_three_events_df[(attribution_level_three_events_df['page_id']=='goods_detail') & (attribution_level_three_events_df['is_recommend']!='1')].index, inplace=True)"
   ]
  },
  {
   "cell_type": "code",
   "execution_count": 29,
   "metadata": {},
   "outputs": [],
   "source": [
    "# 删除购物车页非商品推荐的点击\n",
    "attribution_level_three_events_df.drop(attribution_level_three_events_df[(attribution_level_three_events_df['page_id']=='shopping_cart') & (attribution_level_three_events_df['is_recommend']!='1')].index, inplace=True)"
   ]
  },
  {
   "cell_type": "code",
   "execution_count": 30,
   "metadata": {
    "scrolled": false
   },
   "outputs": [
    {
     "data": {
      "text/html": [
       "<div>\n",
       "<style scoped>\n",
       "    .dataframe tbody tr th:only-of-type {\n",
       "        vertical-align: middle;\n",
       "    }\n",
       "\n",
       "    .dataframe tbody tr th {\n",
       "        vertical-align: top;\n",
       "    }\n",
       "\n",
       "    .dataframe thead th {\n",
       "        text-align: right;\n",
       "    }\n",
       "</style>\n",
       "<table border=\"1\" class=\"dataframe\">\n",
       "  <thead>\n",
       "    <tr style=\"text-align: right;\">\n",
       "      <th></th>\n",
       "      <th>id</th>\n",
       "      <th>dt</th>\n",
       "      <th>event_code</th>\n",
       "      <th>event_type</th>\n",
       "      <th>os_type</th>\n",
       "      <th>page_id</th>\n",
       "      <th>page_title</th>\n",
       "      <th>floor_name</th>\n",
       "      <th>item_name</th>\n",
       "      <th>goods_code</th>\n",
       "      <th>...</th>\n",
       "      <th>user_id</th>\n",
       "      <th>order_code</th>\n",
       "      <th>deal_with_amount</th>\n",
       "      <th>order_status</th>\n",
       "      <th>risk_audit_ststus</th>\n",
       "      <th>order_date</th>\n",
       "      <th>pay_date</th>\n",
       "      <th>properties</th>\n",
       "      <th>type</th>\n",
       "      <th>attribution_level</th>\n",
       "    </tr>\n",
       "  </thead>\n",
       "  <tbody>\n",
       "  </tbody>\n",
       "</table>\n",
       "<p>0 rows × 23 columns</p>\n",
       "</div>"
      ],
      "text/plain": [
       "Empty DataFrame\n",
       "Columns: [id, dt, event_code, event_type, os_type, page_id, page_title, floor_name, item_name, goods_code, goods_source, is_recommend, event_time, user_id, order_code, deal_with_amount, order_status, risk_audit_ststus, order_date, pay_date, properties, type, attribution_level]\n",
       "Index: []\n",
       "\n",
       "[0 rows x 23 columns]"
      ]
     },
     "execution_count": 30,
     "metadata": {},
     "output_type": "execute_result"
    }
   ],
   "source": [
    "attribution_level_three_events_df[attribution_level_three_events_df['page_id'].isnull()].head()"
   ]
  },
  {
   "cell_type": "code",
   "execution_count": 31,
   "metadata": {},
   "outputs": [],
   "source": [
    "# 删除没有page_id的 add_to_shopping_cart_now 事件\n",
    "attribution_level_three_events_df.dropna(subset=['page_id'],inplace=True)"
   ]
  },
  {
   "cell_type": "code",
   "execution_count": 32,
   "metadata": {},
   "outputs": [
    {
     "data": {
      "text/html": [
       "<div>\n",
       "<style scoped>\n",
       "    .dataframe tbody tr th:only-of-type {\n",
       "        vertical-align: middle;\n",
       "    }\n",
       "\n",
       "    .dataframe tbody tr th {\n",
       "        vertical-align: top;\n",
       "    }\n",
       "\n",
       "    .dataframe thead th {\n",
       "        text-align: right;\n",
       "    }\n",
       "</style>\n",
       "<table border=\"1\" class=\"dataframe\">\n",
       "  <thead>\n",
       "    <tr style=\"text-align: right;\">\n",
       "      <th></th>\n",
       "      <th>id</th>\n",
       "      <th>dt</th>\n",
       "      <th>event_code</th>\n",
       "      <th>event_type</th>\n",
       "      <th>os_type</th>\n",
       "      <th>page_id</th>\n",
       "      <th>page_title</th>\n",
       "      <th>floor_name</th>\n",
       "      <th>item_name</th>\n",
       "      <th>goods_code</th>\n",
       "      <th>...</th>\n",
       "      <th>user_id</th>\n",
       "      <th>order_code</th>\n",
       "      <th>deal_with_amount</th>\n",
       "      <th>order_status</th>\n",
       "      <th>risk_audit_ststus</th>\n",
       "      <th>order_date</th>\n",
       "      <th>pay_date</th>\n",
       "      <th>properties</th>\n",
       "      <th>type</th>\n",
       "      <th>attribution_level</th>\n",
       "    </tr>\n",
       "  </thead>\n",
       "  <tbody>\n",
       "  </tbody>\n",
       "</table>\n",
       "<p>0 rows × 23 columns</p>\n",
       "</div>"
      ],
      "text/plain": [
       "Empty DataFrame\n",
       "Columns: [id, dt, event_code, event_type, os_type, page_id, page_title, floor_name, item_name, goods_code, goods_source, is_recommend, event_time, user_id, order_code, deal_with_amount, order_status, risk_audit_ststus, order_date, pay_date, properties, type, attribution_level]\n",
       "Index: []\n",
       "\n",
       "[0 rows x 23 columns]"
      ]
     },
     "execution_count": 32,
     "metadata": {},
     "output_type": "execute_result"
    }
   ],
   "source": [
    "attribution_level_three_events_df[attribution_level_three_events_df['page_id'].isnull()].head()"
   ]
  },
  {
   "cell_type": "markdown",
   "metadata": {},
   "source": [
    "#### 合并待归因的数据"
   ]
  },
  {
   "cell_type": "code",
   "execution_count": 33,
   "metadata": {},
   "outputs": [],
   "source": [
    "attribution_df=pd.concat([attribution_level_one_events_df,attribution_level_two_events_df,attribution_level_three_events_df])"
   ]
  },
  {
   "cell_type": "code",
   "execution_count": 34,
   "metadata": {},
   "outputs": [],
   "source": [
    "attribution_df.to_csv('归因-待归因事件{dt}.csv'.format(dt=dt), index=False)"
   ]
  },
  {
   "cell_type": "markdown",
   "metadata": {},
   "source": [
    "### 商品详情页明细数据"
   ]
  },
  {
   "cell_type": "code",
   "execution_count": 35,
   "metadata": {},
   "outputs": [],
   "source": [
    "# 执行查询\n",
    "cursor.execute(relation_events)\n",
    "# 获取列名\n",
    "columns = [col[0] for col in cursor.description]"
   ]
  },
  {
   "cell_type": "code",
   "execution_count": 36,
   "metadata": {},
   "outputs": [],
   "source": [
    "# 查询结果\n",
    "relation_data=cursor.fetchall()"
   ]
  },
  {
   "cell_type": "code",
   "execution_count": 37,
   "metadata": {},
   "outputs": [],
   "source": [
    "relation_df=pd.DataFrame(relation_data,columns=columns)"
   ]
  },
  {
   "cell_type": "code",
   "execution_count": 38,
   "metadata": {},
   "outputs": [],
   "source": [
    "relation_df['type']='relation'\n",
    "# 设置 100 ,为了同时属于前项关联时间和三级待归因事件的排序\n",
    "relation_df['attribution_level']='9999'"
   ]
  },
  {
   "cell_type": "code",
   "execution_count": 39,
   "metadata": {},
   "outputs": [
    {
     "data": {
      "text/html": [
       "<div>\n",
       "<style scoped>\n",
       "    .dataframe tbody tr th:only-of-type {\n",
       "        vertical-align: middle;\n",
       "    }\n",
       "\n",
       "    .dataframe tbody tr th {\n",
       "        vertical-align: top;\n",
       "    }\n",
       "\n",
       "    .dataframe thead th {\n",
       "        text-align: right;\n",
       "    }\n",
       "</style>\n",
       "<table border=\"1\" class=\"dataframe\">\n",
       "  <thead>\n",
       "    <tr style=\"text-align: right;\">\n",
       "      <th></th>\n",
       "      <th>id</th>\n",
       "      <th>dt</th>\n",
       "      <th>event_code</th>\n",
       "      <th>event_type</th>\n",
       "      <th>os_type</th>\n",
       "      <th>page_id</th>\n",
       "      <th>page_title</th>\n",
       "      <th>floor_name</th>\n",
       "      <th>item_name</th>\n",
       "      <th>goods_code</th>\n",
       "      <th>...</th>\n",
       "      <th>user_id</th>\n",
       "      <th>order_code</th>\n",
       "      <th>deal_with_amount</th>\n",
       "      <th>order_status</th>\n",
       "      <th>risk_audit_ststus</th>\n",
       "      <th>order_date</th>\n",
       "      <th>pay_date</th>\n",
       "      <th>properties</th>\n",
       "      <th>type</th>\n",
       "      <th>attribution_level</th>\n",
       "    </tr>\n",
       "  </thead>\n",
       "  <tbody>\n",
       "    <tr>\n",
       "      <th>0</th>\n",
       "      <td>585816217508515840</td>\n",
       "      <td>2022-06-05</td>\n",
       "      <td>page_start</td>\n",
       "      <td>sf</td>\n",
       "      <td>android</td>\n",
       "      <td>goods_detail</td>\n",
       "      <td>商品详情页</td>\n",
       "      <td>None</td>\n",
       "      <td>None</td>\n",
       "      <td>201701171</td>\n",
       "      <td>...</td>\n",
       "      <td>24997376</td>\n",
       "      <td></td>\n",
       "      <td></td>\n",
       "      <td></td>\n",
       "      <td></td>\n",
       "      <td></td>\n",
       "      <td></td>\n",
       "      <td></td>\n",
       "      <td>relation</td>\n",
       "      <td>9999</td>\n",
       "    </tr>\n",
       "    <tr>\n",
       "      <th>1</th>\n",
       "      <td>585888762014732288</td>\n",
       "      <td>2022-06-05</td>\n",
       "      <td>micro_goods_detail_button_ck</td>\n",
       "      <td>ck</td>\n",
       "      <td>android</td>\n",
       "      <td>micro_goods_detail</td>\n",
       "      <td>微详情页</td>\n",
       "      <td>商品微详情</td>\n",
       "      <td>立即购买</td>\n",
       "      <td>201936364</td>\n",
       "      <td>...</td>\n",
       "      <td>24997376</td>\n",
       "      <td></td>\n",
       "      <td></td>\n",
       "      <td></td>\n",
       "      <td></td>\n",
       "      <td></td>\n",
       "      <td></td>\n",
       "      <td></td>\n",
       "      <td>relation</td>\n",
       "      <td>9999</td>\n",
       "    </tr>\n",
       "    <tr>\n",
       "      <th>2</th>\n",
       "      <td>585888831333867520</td>\n",
       "      <td>2022-06-05</td>\n",
       "      <td>micro_goods_detail_specification_window_ck</td>\n",
       "      <td>ck</td>\n",
       "      <td>android</td>\n",
       "      <td>micro_goods_detail</td>\n",
       "      <td>微详情页</td>\n",
       "      <td>商品微详情</td>\n",
       "      <td>None</td>\n",
       "      <td>201936364</td>\n",
       "      <td>...</td>\n",
       "      <td>24997376</td>\n",
       "      <td></td>\n",
       "      <td></td>\n",
       "      <td></td>\n",
       "      <td></td>\n",
       "      <td></td>\n",
       "      <td></td>\n",
       "      <td></td>\n",
       "      <td>relation</td>\n",
       "      <td>9999</td>\n",
       "    </tr>\n",
       "    <tr>\n",
       "      <th>3</th>\n",
       "      <td>585888895687069696</td>\n",
       "      <td>2022-06-05</td>\n",
       "      <td>page_start</td>\n",
       "      <td>sf</td>\n",
       "      <td>android</td>\n",
       "      <td>goods_detail</td>\n",
       "      <td>商品详情页</td>\n",
       "      <td>None</td>\n",
       "      <td>None</td>\n",
       "      <td>201867657</td>\n",
       "      <td>...</td>\n",
       "      <td>24997376</td>\n",
       "      <td></td>\n",
       "      <td></td>\n",
       "      <td></td>\n",
       "      <td></td>\n",
       "      <td></td>\n",
       "      <td></td>\n",
       "      <td></td>\n",
       "      <td>relation</td>\n",
       "      <td>9999</td>\n",
       "    </tr>\n",
       "    <tr>\n",
       "      <th>4</th>\n",
       "      <td>585887699652190208</td>\n",
       "      <td>2022-06-05</td>\n",
       "      <td>page_start</td>\n",
       "      <td>sf</td>\n",
       "      <td>android</td>\n",
       "      <td>goods_detail</td>\n",
       "      <td>商品详情页</td>\n",
       "      <td>None</td>\n",
       "      <td>None</td>\n",
       "      <td>201895126</td>\n",
       "      <td>...</td>\n",
       "      <td>24997376</td>\n",
       "      <td></td>\n",
       "      <td></td>\n",
       "      <td></td>\n",
       "      <td></td>\n",
       "      <td></td>\n",
       "      <td></td>\n",
       "      <td></td>\n",
       "      <td>relation</td>\n",
       "      <td>9999</td>\n",
       "    </tr>\n",
       "  </tbody>\n",
       "</table>\n",
       "<p>5 rows × 23 columns</p>\n",
       "</div>"
      ],
      "text/plain": [
       "                   id          dt                                  event_code  \\\n",
       "0  585816217508515840  2022-06-05                                  page_start   \n",
       "1  585888762014732288  2022-06-05                micro_goods_detail_button_ck   \n",
       "2  585888831333867520  2022-06-05  micro_goods_detail_specification_window_ck   \n",
       "3  585888895687069696  2022-06-05                                  page_start   \n",
       "4  585887699652190208  2022-06-05                                  page_start   \n",
       "\n",
       "  event_type  os_type             page_id page_title floor_name item_name  \\\n",
       "0         sf  android        goods_detail      商品详情页       None      None   \n",
       "1         ck  android  micro_goods_detail       微详情页      商品微详情      立即购买   \n",
       "2         ck  android  micro_goods_detail       微详情页      商品微详情      None   \n",
       "3         sf  android        goods_detail      商品详情页       None      None   \n",
       "4         sf  android        goods_detail      商品详情页       None      None   \n",
       "\n",
       "  goods_code  ...   user_id order_code deal_with_amount order_status  \\\n",
       "0  201701171  ...  24997376                                            \n",
       "1  201936364  ...  24997376                                            \n",
       "2  201936364  ...  24997376                                            \n",
       "3  201867657  ...  24997376                                            \n",
       "4  201895126  ...  24997376                                            \n",
       "\n",
       "  risk_audit_ststus order_date pay_date properties      type attribution_level  \n",
       "0                                                   relation              9999  \n",
       "1                                                   relation              9999  \n",
       "2                                                   relation              9999  \n",
       "3                                                   relation              9999  \n",
       "4                                                   relation              9999  \n",
       "\n",
       "[5 rows x 23 columns]"
      ]
     },
     "execution_count": 39,
     "metadata": {},
     "output_type": "execute_result"
    }
   ],
   "source": [
    "relation_df.head()"
   ]
  },
  {
   "cell_type": "code",
   "execution_count": 40,
   "metadata": {},
   "outputs": [],
   "source": [
    "relation_df.to_csv('归因-商品详情页{dt}.csv'.format(dt=dt), index=False)"
   ]
  },
  {
   "cell_type": "markdown",
   "metadata": {},
   "source": [
    "### 订单明细数据"
   ]
  },
  {
   "cell_type": "code",
   "execution_count": 41,
   "metadata": {},
   "outputs": [],
   "source": [
    "# 执行查询\n",
    "cursor.execute(target_events)\n",
    "# 获取列名\n",
    "columns = [col[0] for col in cursor.description]"
   ]
  },
  {
   "cell_type": "code",
   "execution_count": 42,
   "metadata": {},
   "outputs": [],
   "source": [
    "# 查询结果\n",
    "target_data=cursor.fetchall()"
   ]
  },
  {
   "cell_type": "code",
   "execution_count": 43,
   "metadata": {},
   "outputs": [],
   "source": [
    "target_df=pd.DataFrame(target_data,columns=columns)"
   ]
  },
  {
   "cell_type": "code",
   "execution_count": 44,
   "metadata": {},
   "outputs": [],
   "source": [
    "target_df['type']='target'\n",
    "target_df['attribution_level']='0'"
   ]
  },
  {
   "cell_type": "code",
   "execution_count": 45,
   "metadata": {},
   "outputs": [],
   "source": [
    "target_df.to_csv('归因-商品订单{dt}.csv'.format(dt=dt), index=False)"
   ]
  },
  {
   "cell_type": "markdown",
   "metadata": {},
   "source": [
    "### 合并所有数据明细"
   ]
  },
  {
   "cell_type": "code",
   "execution_count": 46,
   "metadata": {},
   "outputs": [],
   "source": [
    "all_df=pd.concat([attribution_df,relation_df,target_df])"
   ]
  },
  {
   "cell_type": "code",
   "execution_count": 47,
   "metadata": {},
   "outputs": [],
   "source": [
    "# 临时保存用户明细\n",
    "user_info=all_df.query('[\"23948389\"] in user_id').sort_values(by=['event_time','attribution_level'],ascending=False)\n",
    "# user_info.to_excel('用户明细x{dt}.xlsx')"
   ]
  },
  {
   "cell_type": "code",
   "execution_count": 48,
   "metadata": {},
   "outputs": [
    {
     "data": {
      "text/html": [
       "<div>\n",
       "<style scoped>\n",
       "    .dataframe tbody tr th:only-of-type {\n",
       "        vertical-align: middle;\n",
       "    }\n",
       "\n",
       "    .dataframe tbody tr th {\n",
       "        vertical-align: top;\n",
       "    }\n",
       "\n",
       "    .dataframe thead th {\n",
       "        text-align: right;\n",
       "    }\n",
       "</style>\n",
       "<table border=\"1\" class=\"dataframe\">\n",
       "  <thead>\n",
       "    <tr style=\"text-align: right;\">\n",
       "      <th></th>\n",
       "      <th>id</th>\n",
       "      <th>dt</th>\n",
       "      <th>event_code</th>\n",
       "      <th>event_type</th>\n",
       "      <th>os_type</th>\n",
       "      <th>page_id</th>\n",
       "      <th>page_title</th>\n",
       "      <th>floor_name</th>\n",
       "      <th>item_name</th>\n",
       "      <th>goods_code</th>\n",
       "      <th>...</th>\n",
       "      <th>user_id</th>\n",
       "      <th>order_code</th>\n",
       "      <th>deal_with_amount</th>\n",
       "      <th>order_status</th>\n",
       "      <th>risk_audit_ststus</th>\n",
       "      <th>order_date</th>\n",
       "      <th>pay_date</th>\n",
       "      <th>properties</th>\n",
       "      <th>type</th>\n",
       "      <th>attribution_level</th>\n",
       "    </tr>\n",
       "  </thead>\n",
       "  <tbody>\n",
       "  </tbody>\n",
       "</table>\n",
       "<p>0 rows × 23 columns</p>\n",
       "</div>"
      ],
      "text/plain": [
       "Empty DataFrame\n",
       "Columns: [id, dt, event_code, event_type, os_type, page_id, page_title, floor_name, item_name, goods_code, goods_source, is_recommend, event_time, user_id, order_code, deal_with_amount, order_status, risk_audit_ststus, order_date, pay_date, properties, type, attribution_level]\n",
       "Index: []\n",
       "\n",
       "[0 rows x 23 columns]"
      ]
     },
     "execution_count": 48,
     "metadata": {},
     "output_type": "execute_result"
    }
   ],
   "source": [
    "user_info.query(\"type=='target'\").head()"
   ]
  },
  {
   "cell_type": "code",
   "execution_count": 49,
   "metadata": {},
   "outputs": [
    {
     "data": {
      "text/html": [
       "<div>\n",
       "<style scoped>\n",
       "    .dataframe tbody tr th:only-of-type {\n",
       "        vertical-align: middle;\n",
       "    }\n",
       "\n",
       "    .dataframe tbody tr th {\n",
       "        vertical-align: top;\n",
       "    }\n",
       "\n",
       "    .dataframe thead th {\n",
       "        text-align: right;\n",
       "    }\n",
       "</style>\n",
       "<table border=\"1\" class=\"dataframe\">\n",
       "  <thead>\n",
       "    <tr style=\"text-align: right;\">\n",
       "      <th></th>\n",
       "      <th>id</th>\n",
       "      <th>dt</th>\n",
       "      <th>event_code</th>\n",
       "      <th>event_type</th>\n",
       "      <th>os_type</th>\n",
       "      <th>page_id</th>\n",
       "      <th>page_title</th>\n",
       "      <th>floor_name</th>\n",
       "      <th>item_name</th>\n",
       "      <th>goods_code</th>\n",
       "      <th>...</th>\n",
       "      <th>user_id</th>\n",
       "      <th>order_code</th>\n",
       "      <th>deal_with_amount</th>\n",
       "      <th>order_status</th>\n",
       "      <th>risk_audit_ststus</th>\n",
       "      <th>order_date</th>\n",
       "      <th>pay_date</th>\n",
       "      <th>properties</th>\n",
       "      <th>type</th>\n",
       "      <th>attribution_level</th>\n",
       "    </tr>\n",
       "  </thead>\n",
       "  <tbody>\n",
       "    <tr>\n",
       "      <th>0</th>\n",
       "      <td>155366442</td>\n",
       "      <td>2022-06-05</td>\n",
       "      <td>create_order</td>\n",
       "      <td>uc</td>\n",
       "      <td></td>\n",
       "      <td></td>\n",
       "      <td></td>\n",
       "      <td></td>\n",
       "      <td></td>\n",
       "      <td>201936364</td>\n",
       "      <td>...</td>\n",
       "      <td>24997376</td>\n",
       "      <td>6913593515484517089288</td>\n",
       "      <td>259900</td>\n",
       "      <td>22</td>\n",
       "      <td>0</td>\n",
       "      <td>2022-06-05</td>\n",
       "      <td>None</td>\n",
       "      <td></td>\n",
       "      <td>target</td>\n",
       "      <td>0</td>\n",
       "    </tr>\n",
       "    <tr>\n",
       "      <th>1</th>\n",
       "      <td>155366464</td>\n",
       "      <td>2022-06-05</td>\n",
       "      <td>create_order</td>\n",
       "      <td>uc</td>\n",
       "      <td></td>\n",
       "      <td></td>\n",
       "      <td></td>\n",
       "      <td></td>\n",
       "      <td></td>\n",
       "      <td>201867657</td>\n",
       "      <td>...</td>\n",
       "      <td>24997376</td>\n",
       "      <td>1913593517314030632961</td>\n",
       "      <td>752900</td>\n",
       "      <td>22</td>\n",
       "      <td>0</td>\n",
       "      <td>2022-06-05</td>\n",
       "      <td>None</td>\n",
       "      <td></td>\n",
       "      <td>target</td>\n",
       "      <td>0</td>\n",
       "    </tr>\n",
       "  </tbody>\n",
       "</table>\n",
       "<p>2 rows × 23 columns</p>\n",
       "</div>"
      ],
      "text/plain": [
       "          id          dt    event_code event_type os_type page_id page_title  \\\n",
       "0  155366442  2022-06-05  create_order         uc                              \n",
       "1  155366464  2022-06-05  create_order         uc                              \n",
       "\n",
       "  floor_name item_name goods_code  ...   user_id              order_code  \\\n",
       "0                       201936364  ...  24997376  6913593515484517089288   \n",
       "1                       201867657  ...  24997376  1913593517314030632961   \n",
       "\n",
       "  deal_with_amount order_status risk_audit_ststus  order_date pay_date  \\\n",
       "0           259900           22                 0  2022-06-05     None   \n",
       "1           752900           22                 0  2022-06-05     None   \n",
       "\n",
       "  properties    type attribution_level  \n",
       "0             target                 0  \n",
       "1             target                 0  \n",
       "\n",
       "[2 rows x 23 columns]"
      ]
     },
     "execution_count": 49,
     "metadata": {},
     "output_type": "execute_result"
    }
   ],
   "source": [
    "all_df.query(\"type=='target'\").head()"
   ]
  },
  {
   "cell_type": "code",
   "execution_count": 50,
   "metadata": {},
   "outputs": [],
   "source": [
    "# 备份下数据\n",
    "clear_data=all_df.copy()"
   ]
  },
  {
   "cell_type": "code",
   "execution_count": 51,
   "metadata": {},
   "outputs": [],
   "source": [
    "# 转换成字符串类型\n",
    "clear_data['user_id']=clear_data['user_id'].astype('str')\n",
    "clear_data['event_time']=clear_data['event_time'].astype('str')"
   ]
  },
  {
   "cell_type": "markdown",
   "metadata": {},
   "source": [
    "## 开始洗结果数据"
   ]
  },
  {
   "cell_type": "code",
   "execution_count": 52,
   "metadata": {},
   "outputs": [],
   "source": [
    "# user_list=[\"25828203\",\"13519932\"]"
   ]
  },
  {
   "cell_type": "code",
   "execution_count": 53,
   "metadata": {},
   "outputs": [],
   "source": [
    "user_list=list(clear_data['user_id'].unique())"
   ]
  },
  {
   "cell_type": "markdown",
   "metadata": {},
   "source": [
    "### 一次把所有级别的待归因都找出来"
   ]
  },
  {
   "cell_type": "code",
   "execution_count": 54,
   "metadata": {},
   "outputs": [],
   "source": [
    "# 存放所有查找到的资源位\n",
    "find_all_df=None\n",
    "for user_id in user_list:\n",
    "    # 取该用户的所有数据,并按照时间和归因等级降序，这样即使不同级别的归因事件是一样的，也都能归到不同级别，不会被截断\n",
    "    user_temp=clear_data[clear_data['user_id']==user_id].sort_values(by=['event_time','attribution_level'],ascending=False)\n",
    "    # 取所有订单事件，遍历每次订单事件的归因数据\n",
    "    cb_temp_df=user_temp[user_temp['event_type']=='uc']\n",
    "    # print(cb_temp_df)\n",
    "    for row in cb_temp_df.iterrows():\n",
    "        # 获取订单事件\n",
    "        cb_series=row[1]\n",
    "        # 如果通过资源位访问了商品详情，这个时候再记录这个资源位\n",
    "        # 定义存放查询到的资源位\n",
    "        find_df=None\n",
    "        # 定义存放归因等级的顺序和是否归因标记\n",
    "        # 数据结构={待归因level等级:{'order':顺序, 'is_tag':是否归因标记}}\n",
    "        level_info={\"1\":{'order':0, 'is_tag':0},\"2\":{'order':0, 'is_tag':0},\"3\":{'order':0, 'is_tag':0}}\n",
    "        for find_row in user_temp[user_temp['event_time']<cb_series['event_time']].iterrows():\n",
    "            # 每次找到商品详情页且商品是对应提交的商品，则全部更新标记为1\n",
    "            if find_row[1]['type']=='relation' and find_row[1]['goods_code']==cb_series['goods_code']:\n",
    "                for key in level_info:\n",
    "                    level_info[key]['is_tag']=1\n",
    "            # 待归因的级别\n",
    "            attribution_level=find_row[1]['attribution_level']\n",
    "            # 如果是资源位且该资源位后访问了对应的商品,把资源位存下来，且标记改为0，继续往前找\n",
    "            if find_row[1]['type']=='attribution' and level_info[attribution_level]['is_tag']==1:\n",
    "                # 把 series 格式的还转换成 dataframe\n",
    "                find_temp=find_row[1].to_frame().stack().unstack(0)\n",
    "                \n",
    "                find_temp['order']=level_info[attribution_level]['order']\n",
    "                find_temp['order_code']=cb_series['order_code']\n",
    "                find_temp['deal_with_amount']=cb_series['deal_with_amount']\n",
    "                find_temp['order_status']=cb_series['order_status']\n",
    "                find_temp['risk_audit_ststus']=cb_series['risk_audit_ststus']\n",
    "                find_temp['order_date']=cb_series['order_date']\n",
    "                find_temp['pay_date']=cb_series['pay_date']\n",
    "                \n",
    "                # 清除待归因级别大于等于此次级别的\n",
    "                for key in level_info:\n",
    "                    if attribution_level<=key:\n",
    "                        level_info[key]['is_tag']=0\n",
    "                    \n",
    "                level_info[attribution_level]['order']+=1\n",
    "                if find_df is None:\n",
    "                    find_df=find_temp\n",
    "                else:\n",
    "                    find_df=pd.concat([find_df,find_temp])\n",
    "                \n",
    "                \n",
    "        # 如果不为空\n",
    "        if find_df is not None:   \n",
    "            for attribution_level,items in level_info.items():\n",
    "                find_df.loc[find_df['attribution_level']==attribution_level,\"total\"]=items['order']\n",
    "            # 存数据\n",
    "            if find_all_df is None:\n",
    "                find_all_df=find_df\n",
    "            else:\n",
    "                find_all_df=pd.concat([find_all_df,find_df])"
   ]
  },
  {
   "cell_type": "code",
   "execution_count": 55,
   "metadata": {},
   "outputs": [
    {
     "data": {
      "text/html": [
       "<div>\n",
       "<style scoped>\n",
       "    .dataframe tbody tr th:only-of-type {\n",
       "        vertical-align: middle;\n",
       "    }\n",
       "\n",
       "    .dataframe tbody tr th {\n",
       "        vertical-align: top;\n",
       "    }\n",
       "\n",
       "    .dataframe thead th {\n",
       "        text-align: right;\n",
       "    }\n",
       "</style>\n",
       "<table border=\"1\" class=\"dataframe\">\n",
       "  <thead>\n",
       "    <tr style=\"text-align: right;\">\n",
       "      <th></th>\n",
       "      <th>id</th>\n",
       "      <th>dt</th>\n",
       "      <th>event_code</th>\n",
       "      <th>event_type</th>\n",
       "      <th>os_type</th>\n",
       "      <th>page_id</th>\n",
       "      <th>page_title</th>\n",
       "      <th>floor_name</th>\n",
       "      <th>item_name</th>\n",
       "      <th>goods_code</th>\n",
       "      <th>...</th>\n",
       "      <th>deal_with_amount</th>\n",
       "      <th>order_status</th>\n",
       "      <th>risk_audit_ststus</th>\n",
       "      <th>order_date</th>\n",
       "      <th>pay_date</th>\n",
       "      <th>properties</th>\n",
       "      <th>type</th>\n",
       "      <th>attribution_level</th>\n",
       "      <th>order</th>\n",
       "      <th>total</th>\n",
       "    </tr>\n",
       "  </thead>\n",
       "  <tbody>\n",
       "    <tr>\n",
       "      <th>2</th>\n",
       "      <td>585888895661903875</td>\n",
       "      <td>2022-06-05</td>\n",
       "      <td>recommend_item_ck</td>\n",
       "      <td>ck</td>\n",
       "      <td>android</td>\n",
       "      <td>1</td>\n",
       "      <td>小象首页</td>\n",
       "      <td>商品tab</td>\n",
       "      <td>底部tab（新）</td>\n",
       "      <td>201883060</td>\n",
       "      <td>...</td>\n",
       "      <td>752900</td>\n",
       "      <td>22</td>\n",
       "      <td>0</td>\n",
       "      <td>2022-06-05</td>\n",
       "      <td>None</td>\n",
       "      <td>{\"goods_name\":\"Apple iPad mini 8.3英寸 平板电脑 2021...</td>\n",
       "      <td>attribution</td>\n",
       "      <td>3</td>\n",
       "      <td>0</td>\n",
       "      <td>1.0</td>\n",
       "    </tr>\n",
       "    <tr>\n",
       "      <th>4</th>\n",
       "      <td>585888895661903875</td>\n",
       "      <td>2022-06-05</td>\n",
       "      <td>recommend_item_ck</td>\n",
       "      <td>ck</td>\n",
       "      <td>android</td>\n",
       "      <td>1</td>\n",
       "      <td>小象首页</td>\n",
       "      <td>商品tab</td>\n",
       "      <td>底部tab（新）</td>\n",
       "      <td>201883060</td>\n",
       "      <td>...</td>\n",
       "      <td>752900</td>\n",
       "      <td>22</td>\n",
       "      <td>0</td>\n",
       "      <td>2022-06-05</td>\n",
       "      <td>None</td>\n",
       "      <td>{\"goods_name\":\"Apple iPad mini 8.3英寸 平板电脑 2021...</td>\n",
       "      <td>attribution</td>\n",
       "      <td>1</td>\n",
       "      <td>0</td>\n",
       "      <td>1.0</td>\n",
       "    </tr>\n",
       "    <tr>\n",
       "      <th>1</th>\n",
       "      <td>585888744897781763</td>\n",
       "      <td>2022-06-05</td>\n",
       "      <td>recommend_item_ck</td>\n",
       "      <td>ck</td>\n",
       "      <td>android</td>\n",
       "      <td>1</td>\n",
       "      <td>小象首页</td>\n",
       "      <td>商品tab</td>\n",
       "      <td>底部tab（新）</td>\n",
       "      <td>201936364</td>\n",
       "      <td>...</td>\n",
       "      <td>259900</td>\n",
       "      <td>22</td>\n",
       "      <td>0</td>\n",
       "      <td>2022-06-05</td>\n",
       "      <td>None</td>\n",
       "      <td>{\"goods_name\":\"【二手苹果Apple】iPhone 12mini 国行/国际版...</td>\n",
       "      <td>attribution</td>\n",
       "      <td>3</td>\n",
       "      <td>0</td>\n",
       "      <td>1.0</td>\n",
       "    </tr>\n",
       "    <tr>\n",
       "      <th>3</th>\n",
       "      <td>585888744897781763</td>\n",
       "      <td>2022-06-05</td>\n",
       "      <td>recommend_item_ck</td>\n",
       "      <td>ck</td>\n",
       "      <td>android</td>\n",
       "      <td>1</td>\n",
       "      <td>小象首页</td>\n",
       "      <td>商品tab</td>\n",
       "      <td>底部tab（新）</td>\n",
       "      <td>201936364</td>\n",
       "      <td>...</td>\n",
       "      <td>259900</td>\n",
       "      <td>22</td>\n",
       "      <td>0</td>\n",
       "      <td>2022-06-05</td>\n",
       "      <td>None</td>\n",
       "      <td>{\"goods_name\":\"【二手苹果Apple】iPhone 12mini 国行/国际版...</td>\n",
       "      <td>attribution</td>\n",
       "      <td>1</td>\n",
       "      <td>0</td>\n",
       "      <td>1.0</td>\n",
       "    </tr>\n",
       "  </tbody>\n",
       "</table>\n",
       "<p>4 rows × 25 columns</p>\n",
       "</div>"
      ],
      "text/plain": [
       "                   id          dt         event_code event_type  os_type  \\\n",
       "2  585888895661903875  2022-06-05  recommend_item_ck         ck  android   \n",
       "4  585888895661903875  2022-06-05  recommend_item_ck         ck  android   \n",
       "1  585888744897781763  2022-06-05  recommend_item_ck         ck  android   \n",
       "3  585888744897781763  2022-06-05  recommend_item_ck         ck  android   \n",
       "\n",
       "  page_id page_title floor_name item_name goods_code  ... deal_with_amount  \\\n",
       "2       1       小象首页      商品tab  底部tab（新）  201883060  ...           752900   \n",
       "4       1       小象首页      商品tab  底部tab（新）  201883060  ...           752900   \n",
       "1       1       小象首页      商品tab  底部tab（新）  201936364  ...           259900   \n",
       "3       1       小象首页      商品tab  底部tab（新）  201936364  ...           259900   \n",
       "\n",
       "  order_status risk_audit_ststus  order_date pay_date  \\\n",
       "2           22                 0  2022-06-05     None   \n",
       "4           22                 0  2022-06-05     None   \n",
       "1           22                 0  2022-06-05     None   \n",
       "3           22                 0  2022-06-05     None   \n",
       "\n",
       "                                          properties         type  \\\n",
       "2  {\"goods_name\":\"Apple iPad mini 8.3英寸 平板电脑 2021...  attribution   \n",
       "4  {\"goods_name\":\"Apple iPad mini 8.3英寸 平板电脑 2021...  attribution   \n",
       "1  {\"goods_name\":\"【二手苹果Apple】iPhone 12mini 国行/国际版...  attribution   \n",
       "3  {\"goods_name\":\"【二手苹果Apple】iPhone 12mini 国行/国际版...  attribution   \n",
       "\n",
       "   attribution_level order total  \n",
       "2                  3     0   1.0  \n",
       "4                  1     0   1.0  \n",
       "1                  3     0   1.0  \n",
       "3                  1     0   1.0  \n",
       "\n",
       "[4 rows x 25 columns]"
      ]
     },
     "execution_count": 55,
     "metadata": {},
     "output_type": "execute_result"
    }
   ],
   "source": [
    "find_all_df.head()"
   ]
  },
  {
   "cell_type": "code",
   "execution_count": 56,
   "metadata": {},
   "outputs": [],
   "source": [
    "find_all_df.to_csv('临时结果_{dt}.csv'.format(dt=dt), index=False)"
   ]
  },
  {
   "cell_type": "code",
   "execution_count": 57,
   "metadata": {},
   "outputs": [],
   "source": [
    "# 防止导入到csv变科学计数法,数仓开发不存在这个问题，不用处理这步\n",
    "def deal_str(data):\n",
    "    data = '-'+str(data)\n",
    "    return data"
   ]
  },
  {
   "cell_type": "code",
   "execution_count": 58,
   "metadata": {},
   "outputs": [],
   "source": [
    "find_all_df['order_code'] = find_all_df['order_code'].map(deal_str)\n",
    "find_all_df['event_time'] = find_all_df['event_time'].map(deal_str)\n",
    "find_all_df['id'] = find_all_df['id'].map(deal_str)"
   ]
  },
  {
   "cell_type": "code",
   "execution_count": 59,
   "metadata": {},
   "outputs": [],
   "source": [
    "# 导出字段的顺序\n",
    "colnums_sort=[\"id\",\"dt\",\"event_code\",\"event_type\",\"os_type\",\"page_id\",\"page_title\",\"floor_name\",\"item_name\",\"event_time\",\"user_id\",\"order_code\",\"goods_code\",\"goods_source\",\"is_recommend\",\"deal_with_amount\",\"risk_audit_ststus\",\"order_status\",\"order_date\",\"pay_date\",\"type\",\"attribution_level\",\"order\",\"total\",\"properties\"]"
   ]
  },
  {
   "cell_type": "code",
   "execution_count": 60,
   "metadata": {},
   "outputs": [],
   "source": [
    "save_df=find_all_df.reindex(columns=colnums_sort)"
   ]
  },
  {
   "cell_type": "code",
   "execution_count": 61,
   "metadata": {},
   "outputs": [],
   "source": [
    "save_df.to_csv('最终结果数据{dt}.csv'.format(dt=dt), index=False,encoding='utf-8')"
   ]
  },
  {
   "cell_type": "markdown",
   "metadata": {},
   "source": [
    "## 把清洗的结果保存到hive表"
   ]
  },
  {
   "cell_type": "code",
   "execution_count": 62,
   "metadata": {},
   "outputs": [],
   "source": [
    "# 最终将结果保存到表里"
   ]
  },
  {
   "cell_type": "code",
   "execution_count": null,
   "metadata": {},
   "outputs": [],
   "source": []
  },
  {
   "cell_type": "code",
   "execution_count": null,
   "metadata": {},
   "outputs": [],
   "source": []
  },
  {
   "cell_type": "markdown",
   "metadata": {},
   "source": [
    "## 明细数据测试"
   ]
  },
  {
   "cell_type": "code",
   "execution_count": 63,
   "metadata": {},
   "outputs": [],
   "source": [
    "# all_df[(all_df['user_id']=='16087019') | (all_df['user_id']=='100000000000000')].head()"
   ]
  },
  {
   "cell_type": "code",
   "execution_count": 64,
   "metadata": {},
   "outputs": [],
   "source": [
    "user_info=clear_data.query('[\"2503841\"] in user_id').sort_values(by=['event_time','attribution_level'],ascending=False)"
   ]
  },
  {
   "cell_type": "code",
   "execution_count": 65,
   "metadata": {},
   "outputs": [],
   "source": [
    "user_info.to_excel('用户明细x{2503841}a12345.xlsx')"
   ]
  },
  {
   "cell_type": "code",
   "execution_count": 66,
   "metadata": {},
   "outputs": [
    {
     "data": {
      "text/html": [
       "<div>\n",
       "<style scoped>\n",
       "    .dataframe tbody tr th:only-of-type {\n",
       "        vertical-align: middle;\n",
       "    }\n",
       "\n",
       "    .dataframe tbody tr th {\n",
       "        vertical-align: top;\n",
       "    }\n",
       "\n",
       "    .dataframe thead th {\n",
       "        text-align: right;\n",
       "    }\n",
       "</style>\n",
       "<table border=\"1\" class=\"dataframe\">\n",
       "  <thead>\n",
       "    <tr style=\"text-align: right;\">\n",
       "      <th></th>\n",
       "      <th>id</th>\n",
       "      <th>dt</th>\n",
       "      <th>event_code</th>\n",
       "      <th>event_type</th>\n",
       "      <th>os_type</th>\n",
       "      <th>page_id</th>\n",
       "      <th>page_title</th>\n",
       "      <th>floor_name</th>\n",
       "      <th>item_name</th>\n",
       "      <th>goods_code</th>\n",
       "      <th>...</th>\n",
       "      <th>user_id</th>\n",
       "      <th>order_code</th>\n",
       "      <th>deal_with_amount</th>\n",
       "      <th>order_status</th>\n",
       "      <th>risk_audit_ststus</th>\n",
       "      <th>order_date</th>\n",
       "      <th>pay_date</th>\n",
       "      <th>properties</th>\n",
       "      <th>type</th>\n",
       "      <th>attribution_level</th>\n",
       "    </tr>\n",
       "  </thead>\n",
       "  <tbody>\n",
       "  </tbody>\n",
       "</table>\n",
       "<p>0 rows × 23 columns</p>\n",
       "</div>"
      ],
      "text/plain": [
       "Empty DataFrame\n",
       "Columns: [id, dt, event_code, event_type, os_type, page_id, page_title, floor_name, item_name, goods_code, goods_source, is_recommend, event_time, user_id, order_code, deal_with_amount, order_status, risk_audit_ststus, order_date, pay_date, properties, type, attribution_level]\n",
       "Index: []\n",
       "\n",
       "[0 rows x 23 columns]"
      ]
     },
     "execution_count": 66,
     "metadata": {},
     "output_type": "execute_result"
    }
   ],
   "source": [
    "user_info.query('type==\"target\"')"
   ]
  },
  {
   "cell_type": "code",
   "execution_count": 67,
   "metadata": {},
   "outputs": [],
   "source": [
    "# 这一步，桑题图用的，可以不洗\n",
    "def clear_title(row):\n",
    "    # 如果元素不为空，则是资源位，直接用元素名\n",
    "    # 如果 event_code=page_start，则是详情页，用详情页拼接 goods_code\n",
    "    # 剩下的则是提交订单，用提交订单拼接 goods_code\n",
    "    if row['type']=='attribution':\n",
    "        row['title']=\"待归因:\"+str(row['page_id'])+\":\"+str(row['page_title'])+\":\"+str(row['event_code'])+\":\"+str(row['goods_code'])+\":\"+str(row['attribution_level'])\n",
    "    elif row['type']=='relation':\n",
    "        row['title']='详情页:'+str(row['goods_code'])\n",
    "    else:\n",
    "        row['title']='提交订单'+str(row['goods_code'])\n",
    "    row['title']=row['title']+'@'+str(row['user_id'])\n",
    "    return row\n",
    "    return row\n",
    "user_titile_info=user_info.apply(clear_title,axis='columns')"
   ]
  },
  {
   "cell_type": "code",
   "execution_count": 68,
   "metadata": {},
   "outputs": [],
   "source": [
    "# user_titile_info['order_code'] = user_titile_info['order_code'].map(deal_str)\n",
    "# user_titile_info['event_time'] = user_titile_info['event_time'].map(deal_str)"
   ]
  },
  {
   "cell_type": "code",
   "execution_count": 69,
   "metadata": {},
   "outputs": [],
   "source": [
    "user_titile_info['order_code'] = user_titile_info['order_code'].map(deal_str)"
   ]
  },
  {
   "cell_type": "code",
   "execution_count": 70,
   "metadata": {},
   "outputs": [],
   "source": [
    "user_titile_info.to_csv('用户明细3{dt}.csv'.format(dt=dt), index=False,encoding='utf-8')"
   ]
  },
  {
   "cell_type": "markdown",
   "metadata": {},
   "source": [
    "## 对比线上归因逻辑"
   ]
  },
  {
   "cell_type": "code",
   "execution_count": 71,
   "metadata": {},
   "outputs": [],
   "source": [
    "temp_sql_str='''\n",
    "select\n",
    "order_code\n",
    ",user_id\n",
    "from dws_xxyp_operation.dws_xxyp_operation_all_attribution_result_data_d_inc_dt\n",
    "where dt='2022-06-03'\n",
    "and `order`=0 \n",
    "and attribution_level=3\n",
    "and event_code='recommend_item_ck'\n",
    "and pay_date='2022-05-09'\n",
    "and split(get_json_object(properties,'$.recommend_source'),'_')[0]='micrpage-v1.0'\n",
    "and os_type='iOS'\n",
    "'''"
   ]
  },
  {
   "cell_type": "code",
   "execution_count": 72,
   "metadata": {},
   "outputs": [],
   "source": [
    "# 执行查询\n",
    "cursor.execute(temp_sql_str)\n",
    "# 获取列名\n",
    "columns = [col[0] for col in cursor.description]"
   ]
  },
  {
   "cell_type": "code",
   "execution_count": 73,
   "metadata": {},
   "outputs": [
    {
     "data": {
      "text/plain": [
       "['order_code', 'user_id']"
      ]
     },
     "execution_count": 73,
     "metadata": {},
     "output_type": "execute_result"
    }
   ],
   "source": [
    "columns"
   ]
  },
  {
   "cell_type": "code",
   "execution_count": 74,
   "metadata": {},
   "outputs": [],
   "source": [
    "# 查询结果\n",
    "temp_sql_data=cursor.fetchall()\n",
    "temp_sql_df=pd.DataFrame(temp_sql_data,columns=columns)"
   ]
  },
  {
   "cell_type": "code",
   "execution_count": 75,
   "metadata": {},
   "outputs": [],
   "source": [
    "temp_sql_df['order_code'] = temp_sql_df['order_code'].map(deal_str)"
   ]
  },
  {
   "cell_type": "code",
   "execution_count": 76,
   "metadata": {},
   "outputs": [
    {
     "data": {
      "text/html": [
       "<div>\n",
       "<style scoped>\n",
       "    .dataframe tbody tr th:only-of-type {\n",
       "        vertical-align: middle;\n",
       "    }\n",
       "\n",
       "    .dataframe tbody tr th {\n",
       "        vertical-align: top;\n",
       "    }\n",
       "\n",
       "    .dataframe thead th {\n",
       "        text-align: right;\n",
       "    }\n",
       "</style>\n",
       "<table border=\"1\" class=\"dataframe\">\n",
       "  <thead>\n",
       "    <tr style=\"text-align: right;\">\n",
       "      <th></th>\n",
       "      <th>order_code</th>\n",
       "      <th>user_id</th>\n",
       "    </tr>\n",
       "  </thead>\n",
       "  <tbody>\n",
       "  </tbody>\n",
       "</table>\n",
       "</div>"
      ],
      "text/plain": [
       "Empty DataFrame\n",
       "Columns: [order_code, user_id]\n",
       "Index: []"
      ]
     },
     "execution_count": 76,
     "metadata": {},
     "output_type": "execute_result"
    }
   ],
   "source": [
    "temp_sql_df"
   ]
  },
  {
   "cell_type": "code",
   "execution_count": 77,
   "metadata": {},
   "outputs": [],
   "source": [
    "aaaaaa=find_all_df.query('page_id==\"micro_goods_detail\" and os_type==\"iOS\" and order==0 and pay_date==\"2022-05-09\"')\n",
    "aaaaaa.to_excel('用户明细x{dt}a12.xlsx')\n",
    "aaaaaa=aaaaaa[['user_id',\"order_code\"]]"
   ]
  },
  {
   "cell_type": "code",
   "execution_count": 78,
   "metadata": {},
   "outputs": [],
   "source": [
    "pd.merge(temp_sql_df,aaaaaa,on='order_code',how='left').to_excel('用户明细x{dt}a123.xlsx')"
   ]
  },
  {
   "cell_type": "code",
   "execution_count": null,
   "metadata": {},
   "outputs": [],
   "source": []
  },
  {
   "cell_type": "code",
   "execution_count": null,
   "metadata": {},
   "outputs": [],
   "source": []
  },
  {
   "cell_type": "code",
   "execution_count": null,
   "metadata": {},
   "outputs": [],
   "source": []
  },
  {
   "cell_type": "code",
   "execution_count": null,
   "metadata": {},
   "outputs": [],
   "source": []
  },
  {
   "cell_type": "code",
   "execution_count": 79,
   "metadata": {},
   "outputs": [],
   "source": [
    "cursor.close()\n",
    "conn.close()"
   ]
  },
  {
   "cell_type": "code",
   "execution_count": 80,
   "metadata": {},
   "outputs": [
    {
     "data": {
      "text/plain": [
       "'2022-06-07 13:53:03.062033'"
      ]
     },
     "execution_count": 80,
     "metadata": {},
     "output_type": "execute_result"
    }
   ],
   "source": [
    "str(datetime.datetime.now())"
   ]
  },
  {
   "cell_type": "code",
   "execution_count": null,
   "metadata": {},
   "outputs": [],
   "source": []
  }
 ],
 "metadata": {
  "hide_input": false,
  "kernelspec": {
   "display_name": "Python 3",
   "language": "python",
   "name": "python3"
  },
  "language_info": {
   "codemirror_mode": {
    "name": "ipython",
    "version": 3
   },
   "file_extension": ".py",
   "mimetype": "text/x-python",
   "name": "python",
   "nbconvert_exporter": "python",
   "pygments_lexer": "ipython3",
   "version": "3.6.8rc1"
  },
  "toc": {
   "base_numbering": 1,
   "nav_menu": {},
   "number_sections": true,
   "sideBar": true,
   "skip_h1_title": false,
   "title_cell": "Table of Contents",
   "title_sidebar": "Contents",
   "toc_cell": false,
   "toc_position": {
    "height": "calc(100% - 180px)",
    "left": "10px",
    "top": "150px",
    "width": "238.42px"
   },
   "toc_section_display": true,
   "toc_window_display": true
  }
 },
 "nbformat": 4,
 "nbformat_minor": 4
}
